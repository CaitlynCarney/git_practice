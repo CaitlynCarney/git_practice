{
 "cells": [
  {
   "cell_type": "code",
   "execution_count": 1,
   "metadata": {},
   "outputs": [],
   "source": [
    "import matplotlib.pyplot as plt\n",
    "import numpy as np\n",
    "import pandas as pd\n",
    "from scipy import stats"
   ]
  },
  {
   "cell_type": "markdown",
   "metadata": {},
   "source": [
    "1. The clerks at the Walgreens on Houston Street have to tell every customer to take the survey that's printed on their receipt. Walgreens knows that only 10% of customers complete the survey. If Walgreens has 618 customers today, what is the likelihood that 70 or more people take the survey?"
   ]
  },
  {
   "cell_type": "code",
   "execution_count": 5,
   "metadata": {},
   "outputs": [
    {
     "data": {
      "text/plain": [
       "0.151"
      ]
     },
     "execution_count": 5,
     "metadata": {},
     "output_type": "execute_result"
    }
   ],
   "source": [
    "n = 618\n",
    "p = 0.1\n",
    "survey = stats.binom(n, p)\n",
    "survey.sf(69).round(3)"
   ]
  },
  {
   "cell_type": "markdown",
   "metadata": {},
   "source": [
    "2. When working with probability distributions, which is the function that gives us the probability of a specific outcome of a discrete random variable?\n",
    "    - Probability Mass Function\n",
    "        - The probability that your random variable takes on an EXACT value. (discrete)"
   ]
  },
  {
   "cell_type": "markdown",
   "metadata": {},
   "source": [
    "3. When working with probability distributions, the survival function gives us a value at which a given percentage of values are higher than that value.\n",
    "    - True\n",
    "        - SF (Survival Function)\n",
    "            - The probability that your random variable takes on a value greater than a given point."
   ]
  },
  {
   "cell_type": "markdown",
   "metadata": {},
   "source": [
    "4. Which distribution best represents choosing a data science student at random to give a presentation?\n",
    "    - Normal\n",
    "        - allows to model a continuous random variable where the further away from the mean you are, the less likely the outcome"
   ]
  },
  {
   "cell_type": "markdown",
   "metadata": {},
   "source": [
    "5. Which distribution best represents the number of pots of coffee that will be brewed on the 6th floor at Codeup over one day if we know how many are brewed on average?\n",
    "    - Poisson\n",
    "        - allows us to model a situation where a certain number of events happen over a specified time interval"
   ]
  },
  {
   "cell_type": "markdown",
   "metadata": {},
   "source": [
    "6. Which distribution best represents the number of students in a class of 20 that will arrive on time to the classroom after a break if we know that there is a 90% chance a given student will arrive on time?\n",
    "    - Binomial\n",
    "        - allows us to model the number of successes after a fixed number of trials, given a certain probability of success"
   ]
  },
  {
   "cell_type": "markdown",
   "metadata": {},
   "source": [
    "7. We want to see if the web dev students are significantly younger than the data science students. What type of test would you use?\n",
    "    - 2 sample\n",
    "        - we are comparing 2 subgroups not 1 to a pop\n",
    "    - 1 tailed\n",
    "        - we are seeing if web dev has a lesser age then data scinece"
   ]
  },
  {
   "cell_type": "markdown",
   "metadata": {},
   "source": [
    "8. (continuing the scenario...) We want to see if the web dev students are significantly younger than the data science students. What is your null hypothesis?\n",
    "    - there is no difference between age of web dev and age of data science students\n",
    "        - population mean of web dev students == population mean of data science students"
   ]
  },
  {
   "cell_type": "markdown",
   "metadata": {},
   "source": [
    "9. (continuing the scenario...) We want to see if the web dev students are significantly younger than the data science students. What is your alternative hypothesis?\n",
    "    - web dev students are on average younger than data science students\n",
    "        - population mean of web dev students < population mean of data science students"
   ]
  },
  {
   "cell_type": "markdown",
   "metadata": {},
   "source": [
    "10. (continuing the scenario...) We want to see if the web dev students are significantly younger than the data science students. What 3 primary assumptions are you making of the data when running this test?\n",
    "    - No outliers\n",
    "    - Large enough sample size\n",
    "    - Equality of Varience"
   ]
  },
  {
   "cell_type": "markdown",
   "metadata": {},
   "source": [
    "11. (continuing the scenario...) We want to see if the web dev students are significantly younger than the data science students. What 2 statistics do we use from our hypothesis test to come to a conclusion? Select 2.\n",
    "    - p value\n",
    "    - t stat"
   ]
  },
  {
   "cell_type": "markdown",
   "metadata": {},
   "source": [
    "12. Codeup wants to know if there is a difference in the proportion of students who hold bachelors degrees web dev to data science students. What test could we use to answer that question?\n",
    "    - chi square\n",
    "        - we are looking to see if holding a bachelors degree is independent from class type or not"
   ]
  },
  {
   "cell_type": "markdown",
   "metadata": {},
   "source": [
    "13. (continuing the scenario...) Codeup wants to know if there is a difference in the proportion of students who hold bachelors degrees web dev to data science students. What is the the null hypothesis?\n",
    "    - There is no difference in the proportions of students with bachelors in webdev and data science\n",
    "        - bachelors held by web dev students == bachelors held by data science students\n",
    "            - holding a bachelors degree is independent from class type"
   ]
  },
  {
   "cell_type": "markdown",
   "metadata": {},
   "source": [
    "14. (continuing the scenario...) Codeup wants to know if there is a difference in the proportion of students who hold bachelors degrees web dev to data science students. What term best describes the error made when we conclude that having a bachelor's degree is independent of class, but as we collect more data, we find our conclusion was incorrect?\n",
    " - Type II error\n",
    "     - we accept our Null Hypothesis when in reality it is False"
   ]
  },
  {
   "cell_type": "markdown",
   "metadata": {},
   "source": [
    "15. Assume that the time it takes to order and eat the burger special at the Esquire is normally distributed with a mean of 40 minutes and a standard deviation of 15 minutes. If it takes 5 minutes to walk from Codeup to the restaurant, what is the likelihood that you can go eat at The Esquire during your lunch hour and not be late back to class?"
   ]
  },
  {
   "cell_type": "code",
   "execution_count": 19,
   "metadata": {},
   "outputs": [
    {
     "data": {
      "text/plain": [
       "0.023"
      ]
     },
     "execution_count": 19,
     "metadata": {},
     "output_type": "execute_result"
    }
   ],
   "source": [
    "mean = 40\n",
    "stdev = 15\n",
    "# Max time I can be in line without being late to class = 60 - 40 = 20 - 5 - 5 = 10\n",
    "stats.norm(mean, stdev).cdf(10).round(3)"
   ]
  },
  {
   "cell_type": "code",
   "execution_count": 26,
   "metadata": {},
   "outputs": [
    {
     "data": {
      "text/plain": [
       "0.15811"
      ]
     },
     "execution_count": 26,
     "metadata": {},
     "output_type": "execute_result"
    }
   ],
   "source": [
    "(np.random.normal(40, 15, 100_000) < 25).mean()"
   ]
  },
  {
   "cell_type": "code",
   "execution_count": null,
   "metadata": {},
   "outputs": [],
   "source": []
  }
 ],
 "metadata": {
  "kernelspec": {
   "display_name": "Python 3",
   "language": "python",
   "name": "python3"
  },
  "language_info": {
   "codemirror_mode": {
    "name": "ipython",
    "version": 3
   },
   "file_extension": ".py",
   "mimetype": "text/x-python",
   "name": "python",
   "nbconvert_exporter": "python",
   "pygments_lexer": "ipython3",
   "version": "3.8.5"
  }
 },
 "nbformat": 4,
 "nbformat_minor": 4
}
