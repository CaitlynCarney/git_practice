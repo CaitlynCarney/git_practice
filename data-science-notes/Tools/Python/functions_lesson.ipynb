{
 "cells": [
  {
   "cell_type": "markdown",
   "metadata": {},
   "source": [
    "# Python Functions\n",
    "\n",
    "- Context: what are functions? why are they helpful?\n",
    "    - reusable piece of code\n",
    "    - generally they accept input and produce outputs\n",
    "    - They are helpful because:\n",
    "        - they are an abstraction\n",
    "    - it and range are built in functions in python"
   ]
  },
  {
   "cell_type": "markdown",
   "metadata": {},
   "source": [
    "## Using Functions"
   ]
  },
  {
   "cell_type": "markdown",
   "metadata": {},
   "source": [
    "<div style=\"padding: 1em 3em; border: 1px solid black;\">\n",
    "    <div style=\"font-weight: bold; font-size: 1.2em; border-bottom: 1px dashed black; padding-bottom: .5em;\">\n",
    "        Vocab\n",
    "    </div>\n",
    "    <ul>\n",
    "        <li>Run/invoke/call</li>\n",
    "        <li>Argument</li>\n",
    "        <li>Return Value</li>\n",
    "    </ul>\n",
    "</div>"
   ]
  },
  {
   "cell_type": "markdown",
   "metadata": {},
   "source": [
    "- the output is the return funtction\n",
    "    - by putting 1 + 1\n",
    "        - the return function will give you 2\n",
    "    - by putting int(\"123\")\n",
    "        - the return function will give you 123\n"
   ]
  },
  {
   "cell_type": "code",
   "execution_count": 2,
   "metadata": {},
   "outputs": [
    {
     "data": {
      "text/plain": [
       "2"
      ]
     },
     "execution_count": 2,
     "metadata": {},
     "output_type": "execute_result"
    }
   ],
   "source": [
    "1 + 1"
   ]
  },
  {
   "cell_type": "code",
   "execution_count": 3,
   "metadata": {},
   "outputs": [
    {
     "data": {
      "text/plain": [
       "123"
      ]
     },
     "execution_count": 3,
     "metadata": {},
     "output_type": "execute_result"
    }
   ],
   "source": [
    "int(\"123\")"
   ]
  },
  {
   "cell_type": "markdown",
   "metadata": {},
   "source": [
    "We've already used built-in functions"
   ]
  },
  {
   "cell_type": "markdown",
   "metadata": {},
   "source": [
    "<div style=\"background-color: rgba(0, 100, 200, .1); padding: 1em 3em; border-radius: 5px; border: 1px solid black\">\n",
    "    <div style=\"font-weight: bold; font-size: 1.2em; border-bottom: 1px dashed black; padding-bottom: .5em;\">\n",
    "        Mini Exercise -- Using Functions\n",
    "    </div>\n",
    "    <ol>\n",
    "        <li>\n",
    "            <p>Take a look at this code snippet:</p>\n",
    "            <pre><code>max([1, 2, 3])</code></pre>\n",
    "            <p>What is the function name?</p>\n",
    "            <p>Where is the function invocation?</p>\n",
    "            <p>What is the return value?</p>\n",
    "        </li>\n",
    "        <li>\n",
    "            <p>Take a look at this code snippet:</p>\n",
    "            <pre><code>type(max([1, 2, 3]))</code></pre>\n",
    "            <p>What will the output be? Why?</p>\n",
    "        </li>\n",
    "        <li>\n",
    "            <p>Take a look at this code snippet:</p>\n",
    "            <pre><code>type(max)</code></pre>\n",
    "            <p>What will the output be? Why?</p>\n",
    "        </li>\n",
    "        <li>\n",
    "            <p>What is the difference between the two code blocks below?</p>\n",
    "            <pre><code>print</code></pre>\n",
    "            <pre><code>print()</code></pre>\n",
    "        </li>\n",
    "        <li>What other built in functions do you know?</li>\n",
    "    </ol>\n",
    "</div>"
   ]
  },
  {
   "cell_type": "markdown",
   "metadata": {},
   "source": [
    "- Take a look at this code snippet: max([1, 2, 3])\n",
    "    -What is the function name?\n",
    "        -maximum\n",
    "    -Where is the function invocation?\n",
    "        -to show the max number in a string\n",
    "    -What is the return value?\n",
    "        -3"
   ]
  },
  {
   "cell_type": "markdown",
   "metadata": {},
   "source": [
    "- Take a look at this code snippet: type(max([1, 2, 3]))\n",
    "    -What will the output be? Why?\n",
    "        - int because it is looking for a number a.k.a integer\n",
    "        - int is the value returned by the max function\n"
   ]
  },
  {
   "cell_type": "code",
   "execution_count": 4,
   "metadata": {},
   "outputs": [
    {
     "data": {
      "text/plain": [
       "int"
      ]
     },
     "execution_count": 4,
     "metadata": {},
     "output_type": "execute_result"
    }
   ],
   "source": [
    "type(max([1, 2, 3]))"
   ]
  },
  {
   "cell_type": "markdown",
   "metadata": {},
   "source": [
    "- Take a look at this code snippet: type(max)\n",
    "    -What will the output be? Why?\n",
    "        - bulit_function_or_method because max is a built in function on python"
   ]
  },
  {
   "cell_type": "code",
   "execution_count": 5,
   "metadata": {},
   "outputs": [
    {
     "data": {
      "text/plain": [
       "builtin_function_or_method"
      ]
     },
     "execution_count": 5,
     "metadata": {},
     "output_type": "execute_result"
    }
   ],
   "source": [
    "type(max)"
   ]
  },
  {
   "cell_type": "markdown",
   "metadata": {},
   "source": [
    "- What is the difference between the two code blocks below?\n",
    "    -print\n",
    "    -print()\n",
    "        - print is not invoking a function print() is"
   ]
  },
  {
   "cell_type": "code",
   "execution_count": 6,
   "metadata": {
    "scrolled": true
   },
   "outputs": [
    {
     "data": {
      "text/plain": [
       "<function print>"
      ]
     },
     "execution_count": 6,
     "metadata": {},
     "output_type": "execute_result"
    }
   ],
   "source": [
    "print"
   ]
  },
  {
   "cell_type": "code",
   "execution_count": 7,
   "metadata": {},
   "outputs": [
    {
     "name": "stdout",
     "output_type": "stream",
     "text": [
      "\n"
     ]
    }
   ],
   "source": [
    "print()"
   ]
  },
  {
   "cell_type": "markdown",
   "metadata": {},
   "source": [
    "- What other built in functions do you know?\n",
    "    -min\n",
    "    -avg\n",
    "    -stdev\n",
    "    -return\n",
    "    -def\n",
    "    "
   ]
  },
  {
   "cell_type": "markdown",
   "metadata": {},
   "source": [
    "### Function Signature:\n",
    "    - the type and quantity of the funtion aguments plus the functions return typ\n",
    "        ex:\n",
    "            - max(l: list[int]) -> int\n",
    "                - not executable pythone code\n",
    "    - what does it take in and give out"
   ]
  },
  {
   "cell_type": "markdown",
   "metadata": {},
   "source": [
    "- what are the signatures of the pring function and the range function?\n",
    "    - print\n",
    "        - signature\n",
    "            - print(anything) -> nothing\n",
    "    - range\n",
    "        - takes in 2 arguments both integers and returns a list of integers\n",
    "        - signature:\n",
    "            - range(start: int, stop: in) -> list[int]\n",
    "        "
   ]
  },
  {
   "cell_type": "markdown",
   "metadata": {},
   "source": [
    "## Defining Functions"
   ]
  },
  {
   "cell_type": "markdown",
   "metadata": {},
   "source": [
    "<div style=\"padding: 1em 3em; border: 1px solid black;\">\n",
    "    <div style=\"font-weight: bold; font-size: 1.2em; border-bottom: 1px dashed black; padding-bottom: .5em;\">\n",
    "        Vocab\n",
    "    </div>\n",
    "    <ul>\n",
    "        <li>Function Definition</li>\n",
    "        <li>Function Name</li>\n",
    "        <li>Argument</li>\n",
    "        <li>Parameter</li>\n",
    "        <li>Function Body</li>\n",
    "    </ul>\n",
    "</div>"
   ]
  },
  {
   "cell_type": "code",
   "execution_count": 8,
   "metadata": {},
   "outputs": [],
   "source": [
    "def increment(n): #n is the parameter\n",
    "    return n + 1\n",
    "\n",
    "increment(2) # 2 is the argument to the invocation of the increment function"
   ]
  },
  {
   "cell_type": "markdown",
   "metadata": {},
   "source": [
    "<div style=\"background-color: rgba(0, 100, 200, .1); padding: 1em 3em; border-radius: 5px; border: 1px solid black\">\n",
    "    <div style=\"font-weight: bold; font-size: 1.2em; border-bottom: 1px dashed black; padding-bottom: .5em;\">\n",
    "        Mini Exercise -- Defining Functions\n",
    "    </div>\n",
    "    <ol>\n",
    "        <li>What is the difference between calling and defining a function?</li>\n",
    "        <li>\n",
    "            <p>What is the difference between the two code blocks below?</p>\n",
    "            <pre><code>def increment(n):\n",
    "    return n + 1</code></pre>\n",
    "            <pre><code>def increment(n):\n",
    "    print(n + 1)</code></pre>\n",
    "        </li>\n",
    "        <li>Create a function named <code>nonzero</code>. It should accept a number and return true if the number is anythong other than zero, false otherwise.</li>\n",
    "        <li>Use your <code>nonzero</code> function in combination with the built-in <code>input</code> function and an <code>if</code> statement to prompt the user for a number and print a message displaying whether or not the number is zero.</li>\n",
    "        <li>Transfer the work you have done into a function named <code>explain_nonzero</code>. Calling this function whould prompt the user and display the message as before.</li>\n",
    "    </ol>\n",
    "</div>"
   ]
  },
  {
   "cell_type": "markdown",
   "metadata": {},
   "source": [
    "- What is the difference between calling and defining a function?\n",
    "    - defining a function allow you to set specific perameters around something.\n",
    "    - calling a function means to run the code "
   ]
  },
  {
   "cell_type": "markdown",
   "metadata": {},
   "source": [
    "- What is the difference between the two code blocks below?\n",
    "    - def increment(n):\n",
    "         return n + 1\n",
    "             - return the code\n",
    "    - def increment(n):\n",
    "         print(n + 1)\n",
    "             - this just prints n plus 1 doesnt actually return value"
   ]
  },
  {
   "cell_type": "markdown",
   "metadata": {},
   "source": [
    "- Create a function named nonzero. It should accept a number and return true if the number is anythong other than zero, false otherwise."
   ]
  },
  {
   "cell_type": "code",
   "execution_count": 35,
   "metadata": {},
   "outputs": [
    {
     "data": {
      "text/plain": [
       "True"
      ]
     },
     "execution_count": 35,
     "metadata": {},
     "output_type": "execute_result"
    }
   ],
   "source": [
    "def nonzero(x):\n",
    "    return x != 0\n",
    "\n",
    "nonzero(1)"
   ]
  },
  {
   "cell_type": "markdown",
   "metadata": {},
   "source": [
    "- Use your nonzero function in combination with the built-in input function and an if statement to prompt the user for a number and print a message displaying whether or not the number is zero."
   ]
  },
  {
   "cell_type": "code",
   "execution_count": 46,
   "metadata": {},
   "outputs": [
    {
     "name": "stdout",
     "output_type": "stream",
     "text": [
      "please choose a number: 2\n",
      "This is not zero!\n"
     ]
    }
   ],
   "source": [
    "num_choice = int(input(\"please choose a number: \"))\n",
    "\n",
    "if nonzero(num_choice):\n",
    "    print(\"This is not zero!\")\n",
    "else:\n",
    "    print(\"This is a zero!\")"
   ]
  },
  {
   "cell_type": "markdown",
   "metadata": {},
   "source": [
    "Transfer the work you have done into a function named explain_nonzero. Calling this function whould prompt the user and display the message as before."
   ]
  },
  {
   "cell_type": "code",
   "execution_count": 119,
   "metadata": {},
   "outputs": [],
   "source": [
    "def explain_nonzero():\n",
    "    num_choice = int(input(\"please choose a number: \"))\n",
    "    if explain_nonzero(num_choice):\n",
    "        print(\"This is not zero!\")\n",
    "    else:\n",
    "        print(\"This is a zero!\")"
   ]
  },
  {
   "cell_type": "code",
   "execution_count": 47,
   "metadata": {
    "scrolled": true
   },
   "outputs": [
    {
     "name": "stdout",
     "output_type": "stream",
     "text": [
      "please choose a number: 3\n",
      "This is not zero!\n"
     ]
    }
   ],
   "source": [
    "explain_nonzero()"
   ]
  },
  {
   "cell_type": "markdown",
   "metadata": {},
   "source": [
    "- what happens if we omit the return keyword?\n",
    "    - The function dows not return a value\n",
    "    - the function call expression evaluates to None\n",
    "- When is this usefuL?\n",
    "    - for side effects\n",
    "        - `square_and)double(x)`: produces a value\n",
    "        - `insert_book_into_database(book)`: has a side effect\n",
    "        - `fill_nulls_with_zero(column)`: produces a value -- a new column with nulls filled in"
   ]
  },
  {
   "cell_type": "code",
   "execution_count": 48,
   "metadata": {},
   "outputs": [
    {
     "ename": "NameError",
     "evalue": "name 'assertincrement' is not defined",
     "output_type": "error",
     "traceback": [
      "\u001b[0;31m---------------------------------------------------------------------------\u001b[0m",
      "\u001b[0;31mNameError\u001b[0m                                 Traceback (most recent call last)",
      "\u001b[0;32m<ipython-input-48-11bb6b6d6158>\u001b[0m in \u001b[0;36m<module>\u001b[0;34m\u001b[0m\n\u001b[1;32m      2\u001b[0m     \u001b[0mprice\u001b[0m\u001b[0;34m(\u001b[0m\u001b[0mn\u001b[0m \u001b[0;34m+\u001b[0m\u001b[0;36m1\u001b[0m\u001b[0;34m)\u001b[0m\u001b[0;34m\u001b[0m\u001b[0;34m\u001b[0m\u001b[0m\n\u001b[1;32m      3\u001b[0m \u001b[0;34m\u001b[0m\u001b[0m\n\u001b[0;32m----> 4\u001b[0;31m \u001b[0massertincrement\u001b[0m\u001b[0;34m(\u001b[0m\u001b[0;36m3\u001b[0m\u001b[0;34m)\u001b[0m \u001b[0;34m==\u001b[0m \u001b[0;36m4\u001b[0m\u001b[0;34m\u001b[0m\u001b[0;34m\u001b[0m\u001b[0m\n\u001b[0m\u001b[1;32m      5\u001b[0m \u001b[0massertincrement\u001b[0m\u001b[0;34m(\u001b[0m\u001b[0;36m1_000\u001b[0m\u001b[0;34m)\u001b[0m \u001b[0;34m==\u001b[0m \u001b[0;36m1_001\u001b[0m\u001b[0;34m\u001b[0m\u001b[0;34m\u001b[0m\u001b[0m\n",
      "\u001b[0;31mNameError\u001b[0m: name 'assertincrement' is not defined"
     ]
    }
   ],
   "source": [
    "def increment(n):\n",
    "    price(n +1)\n",
    "    \n",
    "assertincrement(3) == 4\n",
    "assertincrement(1_000) == 1_001"
   ]
  },
  {
   "cell_type": "markdown",
   "metadata": {},
   "source": [
    "### Default Parameter Values and Keyword Arguments"
   ]
  },
  {
   "cell_type": "code",
   "execution_count": 52,
   "metadata": {},
   "outputs": [],
   "source": [
    "#say hello(name: str) -> str\n",
    "def sayhello(name=\"Easley\"): # =\"Easley\" is giving name a default name\n",
    "    return f\"Hello, {name}!\"\n",
    "#The name parameter has a default calue of \"Easley\""
   ]
  },
  {
   "cell_type": "code",
   "execution_count": 53,
   "metadata": {},
   "outputs": [
    {
     "data": {
      "text/plain": [
       "'Hello, class!'"
      ]
     },
     "execution_count": 53,
     "metadata": {},
     "output_type": "execute_result"
    }
   ],
   "source": [
    "sayhello(\"class\")"
   ]
  },
  {
   "cell_type": "code",
   "execution_count": 54,
   "metadata": {},
   "outputs": [
    {
     "data": {
      "text/plain": [
       "'Hello, Easley!'"
      ]
     },
     "execution_count": 54,
     "metadata": {},
     "output_type": "execute_result"
    }
   ],
   "source": [
    "sayhello()\n",
    "#Passin an arguments for name is optional"
   ]
  },
  {
   "cell_type": "code",
   "execution_count": 66,
   "metadata": {},
   "outputs": [],
   "source": [
    "#What if you wanted to define it even further\n",
    "def sayhello(name=\"Easley\", greeting=\"Hello\"): #now we have 2 parameters can now accept 0 1 or 2 arguments\n",
    "    return f\"{greeting}, {name}!\""
   ]
  },
  {
   "cell_type": "code",
   "execution_count": 67,
   "metadata": {},
   "outputs": [
    {
     "data": {
      "text/plain": [
       "'Hello, Easley!'"
      ]
     },
     "execution_count": 67,
     "metadata": {},
     "output_type": "execute_result"
    }
   ],
   "source": [
    "sayhello()"
   ]
  },
  {
   "cell_type": "code",
   "execution_count": 68,
   "metadata": {},
   "outputs": [
    {
     "data": {
      "text/plain": [
       "'Good Afternoon, Class!'"
      ]
     },
     "execution_count": 68,
     "metadata": {},
     "output_type": "execute_result"
    }
   ],
   "source": [
    "sayhello(\"Class\", \"Good Afternoon\")"
   ]
  },
  {
   "cell_type": "markdown",
   "metadata": {},
   "source": [
    "## Function Scope\n",
    "\n",
    "- defining variables inside/outside of functions\n",
    "- defines where a variable can be referenced"
   ]
  },
  {
   "cell_type": "markdown",
   "metadata": {},
   "source": [
    "<div style=\"padding: 1em 3em; border: 1px solid black;\">\n",
    "    <div style=\"font-weight: bold; font-size: 1.2em; border-bottom: 1px dashed black; padding-bottom: .5em;\">\n",
    "        Vocab\n",
    "    </div>\n",
    "    <ul>\n",
    "        <li>Scope</li>\n",
    "        <li>Global</li>\n",
    "        <li>Local</li>\n",
    "    </ul>\n",
    "</div>"
   ]
  },
  {
   "cell_type": "code",
   "execution_count": 78,
   "metadata": {},
   "outputs": [
    {
     "name": "stdout",
     "output_type": "stream",
     "text": [
      "123\n"
     ]
    }
   ],
   "source": [
    "# NB. function names and variables are very generic here because the concept is very generic\n",
    "def f():\n",
    "    x = 123\n",
    "\n",
    "f()    \n",
    "print(x) #name x is not defined therfore you should recieve an error"
   ]
  },
  {
   "cell_type": "code",
   "execution_count": 76,
   "metadata": {},
   "outputs": [
    {
     "name": "stdout",
     "output_type": "stream",
     "text": [
      "123\n"
     ]
    }
   ],
   "source": [
    "x = 123\n",
    "\n",
    "def f():\n",
    "    print(x)\n",
    "\n",
    "f()    "
   ]
  },
  {
   "cell_type": "markdown",
   "metadata": {},
   "source": [
    "- why would we use global scope versus local scope? Which is preferred?\n",
    "    - Short answer:\n",
    "        - prefer local scope, use global sparinly when a variable needs to be referenced from within multiple functions"
   ]
  },
  {
   "cell_type": "code",
   "execution_count": 82,
   "metadata": {},
   "outputs": [
    {
     "name": "stdout",
     "output_type": "stream",
     "text": [
      "13\n",
      "124\n",
      "123\n"
     ]
    }
   ],
   "source": [
    "x = 123\n",
    "\n",
    "def f(x):\n",
    "    return x + 1\n",
    "\n",
    "print(f(12))\n",
    "print(f(x))\n",
    "print(x)"
   ]
  },
  {
   "cell_type": "markdown",
   "metadata": {},
   "source": [
    "<div style=\"background-color: rgba(0, 100, 200, .1); padding: 1em 3em; border-radius: 5px; border: 1px solid black\">\n",
    "    <div style=\"font-weight: bold; font-size: 1.2em; border-bottom: 1px dashed black; padding-bottom: .5em;\">\n",
    "        Mini Exercise -- Function Scope\n",
    "    </div>\n",
    "    <ol>\n",
    "        <li>What is the difference between local and global scope? Which is preferred?</li>\n",
    "        <li>Take a look at the cell below this one. Before running it, think about what you would expect to happen. Explain step by step how the python code is executing.</li>\n",
    "    </ol>\n",
    "</div>"
   ]
  },
  {
   "cell_type": "markdown",
   "metadata": {},
   "source": [
    "- What is the difference between local and global scope? Which is preferred?\n",
    "    - difference\n",
    "        -\n",
    "    - prefered\n",
    "        -prefer local scope, use global sparinly when a variable needs to be referenced from within multiple functions"
   ]
  },
  {
   "cell_type": "markdown",
   "metadata": {},
   "source": [
    "- Take a look at the cell below this one. Before running it, think about what you would expect to happen. Explain step by step how the python code is executing.\n",
    "    -prediction:\n",
    "        - it will define change it as x\n",
    "            - global holds value 42\n",
    "            - local x holds value 43\n",
    "        - Therefore global x will be our output\n",
    "        \n",
    "    -what happened:\n",
    "        - global (42) was the output for both print(x)\n"
   ]
  },
  {
   "cell_type": "code",
   "execution_count": 85,
   "metadata": {
    "scrolled": true
   },
   "outputs": [
    {
     "name": "stdout",
     "output_type": "stream",
     "text": [
      "42\n",
      "42\n"
     ]
    }
   ],
   "source": [
    "def changeit(x):\n",
    "    x = x + 1\n",
    "\n",
    "x = 42\n",
    "print(x)\n",
    "changeit(x)\n",
    "print(x)"
   ]
  },
  {
   "cell_type": "markdown",
   "metadata": {},
   "source": [
    "**tl;dr** scope summary\n",
    "\n",
    "- prefer local scope\n",
    "- avoid re-assigning global variables"
   ]
  },
  {
   "cell_type": "markdown",
   "metadata": {},
   "source": [
    "### Function Scope Example\n",
    "- These are all local\n",
    "\n",
    "```python\n",
    "def fill_nulls(df):\n",
    "    return df.fillna(0)\n",
    "    \n",
    "def drop_outliers(df):\n",
    "    outlier_cutoff = 3\n",
    "    return df[df.zscore().abs() < 3]\n",
    "    \n",
    "def prep_dataframe(df):\n",
    "    df = fill_nulls(df)\n",
    "    df = drop_outliers(df)\n",
    "    return \n",
    "```"
   ]
  },
  {
   "cell_type": "markdown",
   "metadata": {},
   "source": [
    "[Data Prep example](https://github.com/CodeupClassroom/darden-nlp-exercises/blob/main/nlp_prepare.py). The specifics here aren't important right now, just pay attention to the overall shape of functions and how local scope is used."
   ]
  },
  {
   "cell_type": "markdown",
   "metadata": {},
   "source": [
    "## Lambda Functions\n",
    "\n",
    "- A function as an expression\n",
    "- used for \"throw away\", or one-off, functions"
   ]
  },
  {
   "cell_type": "code",
   "execution_count": null,
   "metadata": {},
   "outputs": [],
   "source": [
    "def increment(n):\n",
    "    return n + 1\n",
    "\n",
    "# same as\n",
    "\n",
    "increment = lambda n: n + 1"
   ]
  },
  {
   "cell_type": "markdown",
   "metadata": {},
   "source": [
    "**Use case**: sorting (min, max too)\n",
    "\n",
    "Python doesn't know how to compare dictionaries, but it does know how to compare strings or numbers"
   ]
  },
  {
   "cell_type": "code",
   "execution_count": 109,
   "metadata": {},
   "outputs": [],
   "source": [
    "students = [\n",
    "    {\"name\": \"Ada Lovelace\", \"grade\": 87},\n",
    "    {\"name\": \"Thomas Bayes\", \"grade\": 89},\n",
    "    {\"name\": \"Christine Darden\", \"grade\": 99},\n",
    "    {\"name\": \"Annie Easley\", \"grade\": 94},\n",
    "    {\"name\": \"Marie Curie\", \"grade\": 97},\n",
    "]"
   ]
  },
  {
   "cell_type": "code",
   "execution_count": 110,
   "metadata": {},
   "outputs": [
    {
     "data": {
      "text/plain": [
       "[-4, 1, 3, 5, 100]"
      ]
     },
     "execution_count": 110,
     "metadata": {},
     "output_type": "execute_result"
    }
   ],
   "source": [
    "sorted([3, 1, 5, 100, -4]) #sorted() will take a list and return it low to high"
   ]
  },
  {
   "cell_type": "code",
   "execution_count": 111,
   "metadata": {},
   "outputs": [
    {
     "ename": "TypeError",
     "evalue": "'<' not supported between instances of 'dict' and 'dict'",
     "output_type": "error",
     "traceback": [
      "\u001b[0;31m---------------------------------------------------------------------------\u001b[0m",
      "\u001b[0;31mTypeError\u001b[0m                                 Traceback (most recent call last)",
      "\u001b[0;32m<ipython-input-111-750ae59b1749>\u001b[0m in \u001b[0;36m<module>\u001b[0;34m\u001b[0m\n\u001b[0;32m----> 1\u001b[0;31m \u001b[0msorted\u001b[0m\u001b[0;34m(\u001b[0m\u001b[0mstudents\u001b[0m\u001b[0;34m)\u001b[0m \u001b[0;31m#python cannot sort or dictionaries they cna sort string and lists amongst others but not dict\u001b[0m\u001b[0;34m\u001b[0m\u001b[0;34m\u001b[0m\u001b[0m\n\u001b[0m",
      "\u001b[0;31mTypeError\u001b[0m: '<' not supported between instances of 'dict' and 'dict'"
     ]
    }
   ],
   "source": [
    "sorted(students) #python cannot sort or dictionaries they cna sort string and lists amongst others but not dict"
   ]
  },
  {
   "cell_type": "code",
   "execution_count": 112,
   "metadata": {},
   "outputs": [
    {
     "data": {
      "text/plain": [
       "[{'name': 'Ada Lovelace', 'grade': 87},\n",
       " {'name': 'Annie Easley', 'grade': 94},\n",
       " {'name': 'Christine Darden', 'grade': 99},\n",
       " {'name': 'Marie Curie', 'grade': 97},\n",
       " {'name': 'Thomas Bayes', 'grade': 89}]"
      ]
     },
     "execution_count": 112,
     "metadata": {},
     "output_type": "execute_result"
    }
   ],
   "source": [
    "# sort by name\n",
    "sorted(students, key=lambda s: s[\"name\"])\n",
    "#sorted(dict_name, key= lambda s: s[\"column_name\"])"
   ]
  },
  {
   "cell_type": "code",
   "execution_count": 113,
   "metadata": {},
   "outputs": [
    {
     "data": {
      "text/plain": [
       "[{'name': 'Ada Lovelace', 'grade': 87},\n",
       " {'name': 'Thomas Bayes', 'grade': 89},\n",
       " {'name': 'Annie Easley', 'grade': 94},\n",
       " {'name': 'Marie Curie', 'grade': 97},\n",
       " {'name': 'Christine Darden', 'grade': 99}]"
      ]
     },
     "execution_count": 113,
     "metadata": {},
     "output_type": "execute_result"
    }
   ],
   "source": [
    "# sort by grade\n",
    "sorted(students, key=lambda s: s[\"grade\"])\n",
    "#sorted(dict_name, key= lamba s: s[\"column_name\"])"
   ]
  },
  {
   "cell_type": "markdown",
   "metadata": {},
   "source": [
    "<div style=\"background-color: rgba(0, 100, 200, .1); padding: 1em 3em; border-radius: 5px; border: 1px solid black\">\n",
    "    <div style=\"font-weight: bold; font-size: 1.2em; border-bottom: 1px dashed black; padding-bottom: .5em;\">\n",
    "        Mini Exercise -- Lambda Functions &amp; Sorting\n",
    "    </div>\n",
    "    <p>Write the code necessary to sort the list of student dictionaries by student <em>last</em> name.</p>\n",
    "    <p>Hints:</p>\n",
    "    <ul>\n",
    "        <li>You will need to write a function that takes in a student dictionary and returns just the last name.</li>\n",
    "        <li>You can use the <code>.split</code> string method to seperate the first name and the last name.</li>\n",
    "    </ul>\n",
    "</div>"
   ]
  },
  {
   "cell_type": "markdown",
   "metadata": {},
   "source": [
    "- Write the code necessary to sort the list of student dictionaries by student last name.\n",
    "    - Hints:\n",
    "        -You will need to write a function that takes in a student dictionary and returns just the last name.\n",
    "        - You can use the .split string method to seperate the first name and the last name."
   ]
  },
  {
   "cell_type": "code",
   "execution_count": 117,
   "metadata": {},
   "outputs": [
    {
     "data": {
      "text/plain": [
       "[{'name': 'Thomas Bayes', 'grade': 89},\n",
       " {'name': 'Marie Curie', 'grade': 97},\n",
       " {'name': 'Christine Darden', 'grade': 99},\n",
       " {'name': 'Annie Easley', 'grade': 94},\n",
       " {'name': 'Ada Lovelace', 'grade': 87}]"
      ]
     },
     "execution_count": 117,
     "metadata": {},
     "output_type": "execute_result"
    }
   ],
   "source": [
    "sorted(students, key = lambda s: s[\"name\"].split(\" \")[-1])"
   ]
  },
  {
   "cell_type": "code",
   "execution_count": null,
   "metadata": {},
   "outputs": [],
   "source": [
    "student = {'name': 'Ada Lovelace', 'grade': 87}\n",
    "\n"
   ]
  }
 ],
 "metadata": {
  "kernelspec": {
   "display_name": "Python 3",
   "language": "python",
   "name": "python3"
  },
  "language_info": {
   "codemirror_mode": {
    "name": "ipython",
    "version": 3
   },
   "file_extension": ".py",
   "mimetype": "text/x-python",
   "name": "python",
   "nbconvert_exporter": "python",
   "pygments_lexer": "ipython3",
   "version": "3.8.5"
  }
 },
 "nbformat": 4,
 "nbformat_minor": 4
}
