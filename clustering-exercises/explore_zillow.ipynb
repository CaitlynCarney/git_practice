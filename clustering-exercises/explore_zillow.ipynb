{
 "cells": [
  {
   "cell_type": "code",
   "execution_count": 1,
   "metadata": {},
   "outputs": [
    {
     "ename": "SyntaxError",
     "evalue": "invalid syntax (explore.py, line 92)",
     "output_type": "error",
     "traceback": [
      "Traceback \u001b[0;36m(most recent call last)\u001b[0m:\n",
      "  File \u001b[1;32m\"/usr/local/anaconda3/lib/python3.8/site-packages/IPython/core/interactiveshell.py\"\u001b[0m, line \u001b[1;32m3418\u001b[0m, in \u001b[1;35mrun_code\u001b[0m\n    exec(code_obj, self.user_global_ns, self.user_ns)\n",
      "\u001b[0;36m  File \u001b[0;32m\"<ipython-input-1-df897a501703>\"\u001b[0;36m, line \u001b[0;32m27\u001b[0;36m, in \u001b[0;35m<module>\u001b[0;36m\u001b[0m\n\u001b[0;31m    import explore\u001b[0m\n",
      "\u001b[0;36m  File \u001b[0;32m\"/Users/caitlyncarney/codeup-data-science/clustering-exercises/explore.py\"\u001b[0;36m, line \u001b[0;32m92\u001b[0m\n\u001b[0;31m    Message Matthew Dalton\u001b[0m\n\u001b[0m            ^\u001b[0m\n\u001b[0;31mSyntaxError\u001b[0m\u001b[0;31m:\u001b[0m invalid syntax\n"
     ]
    }
   ],
   "source": [
    "# ignore warnings\n",
    "import warnings\n",
    "warnings.filterwarnings(\"ignore\")\n",
    "    # so it does not look messy in the lesson\n",
    "\n",
    "# Wrangling\n",
    "import pandas as pd\n",
    "import numpy as np\n",
    "from sklearn.model_selection import train_test_split\n",
    "from sklearn.preprocessing import StandardScaler\n",
    "from sklearn.preprocessing import MinMaxScaler\n",
    "\n",
    "# Statistical Tests\n",
    "import scipy.stats as stats\n",
    "\n",
    "# Visualizing\n",
    "import matplotlib.pyplot as plt\n",
    "from matplotlib import cm\n",
    "import seaborn as sns\n",
    "from sklearn.model_selection import learning_curve\n",
    "\n",
    "pd.options.display.float_format = '{:20,.2f}'.format\n",
    "    # set some formats f default number type (2 decimals)\n",
    "\n",
    "import env\n",
    "import wrangle\n",
    "import explore"
   ]
  },
  {
   "cell_type": "markdown",
   "metadata": {},
   "source": [
    "### Acquire"
   ]
  },
  {
   "cell_type": "code",
   "execution_count": null,
   "metadata": {},
   "outputs": [],
   "source": [
    "df = pd.read_csv(\"zillow.csv\")"
   ]
  },
  {
   "cell_type": "code",
   "execution_count": null,
   "metadata": {},
   "outputs": [],
   "source": [
    "df.info()"
   ]
  },
  {
   "cell_type": "markdown",
   "metadata": {},
   "source": [
    "### Prepare"
   ]
  },
  {
   "cell_type": "code",
   "execution_count": null,
   "metadata": {},
   "outputs": [],
   "source": [
    "df = wrangle.clean_zillow(df)"
   ]
  },
  {
   "cell_type": "code",
   "execution_count": null,
   "metadata": {},
   "outputs": [],
   "source": [
    "df.info()"
   ]
  },
  {
   "cell_type": "code",
   "execution_count": null,
   "metadata": {},
   "outputs": [],
   "source": [
    "train, validate, test = wrangle.split_zillow(df)"
   ]
  },
  {
   "cell_type": "code",
   "execution_count": null,
   "metadata": {},
   "outputs": [],
   "source": [
    "scale_columns = ['bathrooms', 'bedrooms', 'quality', \n",
    "                  'square_feet', 'full_bathrooms', \n",
    "                  'latitude', 'longitude', 'lot_square_feet', 'has_pool', \n",
    "                  'land_type', 'city', 'county', 'zip_code', \n",
    "                 'room_count', 'unitcnt', 'yearbuilt', 'structure_tax_value', \n",
    "                 'tax_value',  'land_tax_value', 'taxamount',\n",
    "                  'house_age', 'tax_rate']"
   ]
  },
  {
   "cell_type": "code",
   "execution_count": null,
   "metadata": {},
   "outputs": [],
   "source": [
    "train_scaled, validate_scaled, test_scaled = wrangle.scale_my_data(train, validate, test, scale_columns)"
   ]
  },
  {
   "cell_type": "code",
   "execution_count": null,
   "metadata": {},
   "outputs": [],
   "source": [
    "train.head()"
   ]
  },
  {
   "cell_type": "code",
   "execution_count": null,
   "metadata": {},
   "outputs": [],
   "source": [
    "binary_vars = ['in_los_angeles', 'in_orange_county', 'in_ventura', \n",
    "               'has_heating_system', 'has_fireplace', 'has_pool']\n",
    "categorical_vars = ['quality', 'full_bathrooms', 'land_type', 'county', \n",
    "                    'zip_code']\n",
    "quant_vars = ['bedrooms', 'bathrooms', 'square_feet', 'lot_square_feet', \n",
    "             'tax_rate', 'structure_tax_value', 'tax_value', \n",
    "              'land_tax_value', 'taxamount']\n",
    "categorical_target = 'level_of_log_error'\n",
    "continuous_target = 'logerror'"
   ]
  },
  {
   "cell_type": "code",
   "execution_count": null,
   "metadata": {},
   "outputs": [],
   "source": [
    "df.level_of_log_error.value_counts()"
   ]
  },
  {
   "cell_type": "markdown",
   "metadata": {},
   "source": [
    "# Univariate Exploration"
   ]
  },
  {
   "cell_type": "code",
   "execution_count": null,
   "metadata": {},
   "outputs": [],
   "source": [
    "print(f'Boxplots and Histograms of Categoriacal Variables', categorical_vars)\n",
    "plt.subplots(5, 2, figsize=(20,25), sharey=True)\n",
    "sns.set(style=\"darkgrid\")\n",
    "\n",
    "plt.subplot(5,2,1)\n",
    "plt.title(\"Distribution of Home Quality\", size=10, color='black')\n",
    "sns.boxplot(train.quality, color='darkred')\n",
    "\n",
    "plt.subplot(5,2,2)\n",
    "plt.title(\"Distribution of Home Quality\", size=10, color='black')\n",
    "sns.histplot(train.quality, color='darkred', ec='black')\n",
    "\n",
    "plt.subplot(5,2,3)\n",
    "plt.title(\"Distribution of Homes Number of Full Bathrooms\", size=10, color='black')\n",
    "sns.boxplot(train.full_bathrooms, color='darkred')\n",
    "\n",
    "plt.subplot(5,2,4)\n",
    "plt.title(\"Distribution of Homes Number of Full Bathrooms\", size=10, color='black')\n",
    "sns.histplot(train.full_bathrooms, color='darkred', ec='black')\n",
    "\n",
    "plt.subplot(5,2,5)\n",
    "plt.title(\"Distribution of Land Type\", size=10, color='black')\n",
    "sns.boxplot(train.land_type, color='darkred')\n",
    "\n",
    "plt.subplot(5,2,6)\n",
    "plt.title(\"Distribution of Land Type\", size=10, color='black')\n",
    "sns.histplot(train.land_type, color='darkred', ec='black')\n",
    "\n",
    "plt.subplot(5,2,7)\n",
    "plt.title(\"Distribution of County\", size=10, color='black')\n",
    "sns.boxplot(train.county, color='darkred')\n",
    "\n",
    "plt.subplot(5,2,8)\n",
    "plt.title(\"Distribution of County\", size=10, color='black')\n",
    "sns.histplot(train.county, color='darkred', ec='black')\n",
    "\n",
    "plt.subplot(5,2,9)\n",
    "plt.title(\"Distribution of Zip Code\", size=10, color='black')\n",
    "sns.boxplot(train.zip_code, color='darkred')\n",
    "\n",
    "plt.subplot(5,2,10)\n",
    "plt.title(\"Distribution of Zip Code\", size=10, color='black')\n",
    "sns.histplot(train.zip_code, color='darkred', ec='black')"
   ]
  },
  {
   "cell_type": "code",
   "execution_count": null,
   "metadata": {},
   "outputs": [],
   "source": [
    "print(f'Boxplots and Histograms of Quantitative Variables', quant_vars)\n",
    "plt.subplots(8, 2, figsize=(30,50), sharey=True)\n",
    "sns.set(style=\"darkgrid\")\n",
    "\n",
    "plt.subplot(8,2,1)\n",
    "plt.title(\"Distribution of Bedrooms\", size=10, color='black')\n",
    "sns.boxplot(train.bedrooms, color='darkred')\n",
    "\n",
    "plt.subplot(8,2,2)\n",
    "plt.title(\"Distribution of Bedrooms\", size=10, color='black')\n",
    "sns.histplot(train.bedrooms, color='darkred', ec='black')\n",
    "\n",
    "plt.subplot(8,2,3)\n",
    "plt.title(\"Distribution of Bathrooms\", size=10, color='black')\n",
    "sns.boxplot(train.bathrooms, color='darkred')\n",
    "\n",
    "plt.subplot(8,2,4)\n",
    "plt.title(\"Distribution of Bathrooms\", size=10, color='black')\n",
    "sns.histplot(train.bathrooms, color='darkred', ec='black')\n",
    "\n",
    "plt.subplot(8,2,5)\n",
    "plt.title(\"Distribution of Square Feet of Home\", size=10, color='black')\n",
    "sns.boxplot(train.square_feet, color='darkred')\n",
    "\n",
    "plt.subplot(8,2,6)\n",
    "plt.title(\"Distribution of Square Feet of Home\", size=10, color='black')\n",
    "sns.histplot(train.square_feet, color='darkred', ec='black')\n",
    "\n",
    "plt.subplot(8,2,7)\n",
    "plt.title(\"Distribution of Square Feet of Lot\", size=10, color='black')\n",
    "sns.boxplot(train.lot_square_feet, color='darkred')\n",
    "\n",
    "plt.subplot(8,2,8)\n",
    "plt.title(\"Distribution of Square Feet of Lot\", size=10, color='black')\n",
    "sns.histplot(train.lot_square_feet, color='darkred', ec='black')\n",
    "\n",
    "plt.subplot(8,2,9)\n",
    "plt.title(\"Distribution of Tax Rate\", size=10, color='black')\n",
    "sns.boxplot(train.tax_rate, color='darkred')\n",
    "\n",
    "plt.subplot(8,2,10)\n",
    "plt.title(\"Distribution of Tax Rate\", size=20, color='black')\n",
    "sns.histplot(train.tax_rate, color='darkred', ec='black')\n",
    "\n",
    "plt.subplot(8,2,11)\n",
    "plt.title(\"Distribution of Structure Tax Value\", size=20, color='black')\n",
    "sns.boxplot(train.structure_tax_value, color='darkred')\n",
    "\n",
    "plt.subplot(8,2,12)\n",
    "plt.title(\"Distribution of Structure Tax Value\", size=20, color='black')\n",
    "sns.histplot(train.structure_tax_value, color='darkred', ec='black')\n",
    "\n",
    "plt.subplot(8,2,13)\n",
    "plt.title(\"Distribution of Land Tax Value\", size=20, color='black')\n",
    "sns.boxplot(train.land_tax_value, color='darkred')\n",
    "\n",
    "plt.subplot(8,2,14)\n",
    "plt.title(\"Distribution of Land Tax Value\", size=20, color='black')\n",
    "sns.histplot(train.land_tax_value, color='darkred', ec='black')\n",
    "\n",
    "plt.subplot(8,2,15)\n",
    "plt.title(\"Distribution of Tax Amount\", size=20, color='black')\n",
    "sns.boxplot(train.taxamount, color='darkred')\n",
    "\n",
    "plt.subplot(8,2,16)\n",
    "plt.title(\"Distribution of Tax Amount\", size=20, color='black')\n",
    "sns.histplot(train.taxamount, color='darkred', ec='black')\n"
   ]
  },
  {
   "cell_type": "markdown",
   "metadata": {},
   "source": [
    "Takeaways:\n",
    "- all of them have outliers\n",
    "    - should run IQR to see about handling these\n",
    "- pretty much all of them are skewed right"
   ]
  },
  {
   "cell_type": "markdown",
   "metadata": {},
   "source": [
    "# Bivariate Exploration"
   ]
  },
  {
   "cell_type": "code",
   "execution_count": null,
   "metadata": {},
   "outputs": [],
   "source": [
    "plt.subplots(14,1, figsize=(15,90), sharey=True)\n",
    "sns.set(style=\"darkgrid\")\n",
    "\n",
    "plt.subplot(14,1,1)\n",
    "sns.scatterplot(x='logerror', y='yearbuilt',\n",
    "               data=train, hue='fips', palette='crest')\n",
    "plt.title(\"How is Logerror Affected by Area and Year the Home was Built?\")\n",
    "plt.legend(bbox_to_anchor=(1.05, 1.0), loc='upper left')\n",
    "    \n",
    "plt.subplot(14,1,2)\n",
    "sns.scatterplot(x='logerror', y='quality',\n",
    "               data=train, hue='fips', palette='crest')\n",
    "plt.title(\"How is Logerror Affected by Area and the Number of Bedrooms?\")\n",
    "plt.legend(bbox_to_anchor=(1.05, 1.0), loc='upper left')\n",
    "\n",
    "plt.subplot(14,1,3)\n",
    "sns.scatterplot(x='logerror', y='square_feet',\n",
    "               data=train, hue='fips', palette='crest')\n",
    "plt.title(\"How is Logerror Affected by Area and the Square Footage?\")\n",
    "plt.legend(bbox_to_anchor=(1.05, 1.0), loc='upper left')\n",
    "\n",
    "plt.subplot(14,1,4)\n",
    "sns.scatterplot(x='logerror', y='lot_square_feet',\n",
    "               data=train, hue='fips', palette='crest')\n",
    "plt.title(\"How is Logerror Affected by Area and the Square Footage?\")\n",
    "plt.legend(bbox_to_anchor=(1.05, 1.0), loc='upper left')\n",
    "\n",
    "plt.subplot(14,1,5)\n",
    "sns.scatterplot(x='logerror', y='bedrooms',\n",
    "               data=train, hue='fips', palette='crest')\n",
    "plt.title(\"How is Logerror Affected by Area and the Square Footage?\")\n",
    "plt.legend(bbox_to_anchor=(1.05, 1.0), loc='upper left')\n",
    "\n",
    "plt.subplot(14,1,6)\n",
    "sns.scatterplot(x='logerror', y='bathrooms',\n",
    "               data=train, hue='fips', palette='crest')\n",
    "plt.title(\"How is Logerror Affected by Area and the Square Footage?\")\n",
    "plt.legend(bbox_to_anchor=(1.05, 1.0), loc='upper left')\n",
    "\n",
    "plt.subplot(14,1,7)\n",
    "sns.scatterplot(x='logerror', y='tax_rate',\n",
    "               data=train, hue='fips', palette='crest')\n",
    "plt.title(\"How is Logerror Affected by Area and the Square Footage?\")\n",
    "plt.legend(bbox_to_anchor=(1.05, 1.0), loc='upper left')\n",
    "\n",
    "plt.subplot(14,1,8)\n",
    "sns.scatterplot(x='logerror', y='structure_tax_value',\n",
    "               data=train, hue='fips', palette='crest')\n",
    "plt.title(\"How is Logerror Affected by Area and the Square Footage?\")\n",
    "plt.legend(bbox_to_anchor=(1.05, 1.0), loc='upper left')\n",
    "\n",
    "plt.subplot(14,1,9)\n",
    "sns.scatterplot(x='logerror', y='land_tax_value',\n",
    "               data=train, hue='fips', palette='crest')\n",
    "plt.title(\"How is Logerror Affected by Area and the Square Footage?\")\n",
    "plt.legend(bbox_to_anchor=(1.05, 1.0), loc='upper left')\n",
    "\n",
    "plt.subplot(14,1,10)\n",
    "sns.scatterplot(x='logerror', y='taxamount',\n",
    "               data=train, hue='fips', palette='crest')\n",
    "plt.title(\"How is Logerror Affected by Area and the Square Footage?\")\n",
    "plt.legend(bbox_to_anchor=(1.05, 1.0), loc='upper left')\n",
    "\n",
    "plt.subplot(14,1,11)\n",
    "sns.scatterplot(x='logerror', y='full_bathrooms',\n",
    "               data=train, hue='fips', palette='crest')\n",
    "plt.title(\"How is Logerror Affected by Area and the Square Footage?\")\n",
    "plt.legend(bbox_to_anchor=(1.05, 1.0), loc='upper left')\n",
    "\n",
    "plt.subplot(14,1,12)\n",
    "sns.scatterplot(x='logerror', y='land_type',\n",
    "               data=train, hue='fips', palette='crest')\n",
    "plt.title(\"How is Logerror Affected by Area and the Square Footage?\")\n",
    "plt.legend(bbox_to_anchor=(1.05, 1.0), loc='upper left')\n",
    "\n",
    "plt.subplot(14,1,13)\n",
    "sns.scatterplot(x='logerror', y='county',\n",
    "               data=train, hue='fips', palette='crest')\n",
    "plt.title(\"How is Logerror Affected by Area and the Square Footage?\")\n",
    "plt.legend(bbox_to_anchor=(1.05, 1.0), loc='upper left')\n",
    "\n",
    "plt.subplot(14,1,14)\n",
    "sns.scatterplot(x='logerror', y='zip_code',\n",
    "               data=train, hue='fips', palette='crest')\n",
    "plt.title(\"How is Logerror Affected by Area and the Square Footage?\")\n",
    "plt.legend(bbox_to_anchor=(1.05, 1.0), loc='upper left')"
   ]
  },
  {
   "cell_type": "code",
   "execution_count": null,
   "metadata": {},
   "outputs": [],
   "source": [
    "plt.figure(figsize=(16,12))\n",
    "sns.scatterplot(x='logerror', y='square_feet',\n",
    "               data=train, hue='fips', palette='crest')\n",
    "plt.title(\"How is Logerror Affected by Area and the Square Footage?\")\n",
    "plt.show()"
   ]
  },
  {
   "cell_type": "code",
   "execution_count": null,
   "metadata": {},
   "outputs": [],
   "source": []
  },
  {
   "cell_type": "markdown",
   "metadata": {},
   "source": [
    "# Multivariate Exploration\n",
    "Standard:"
   ]
  },
  {
   "cell_type": "markdown",
   "metadata": {},
   "source": [
    "for var in binary_vars:\n",
    "    explore.explore_multivariate(train, categorical_target, var, quant_vars)"
   ]
  },
  {
   "cell_type": "markdown",
   "metadata": {},
   "source": [
    "Takeaways:"
   ]
  },
  {
   "cell_type": "code",
   "execution_count": null,
   "metadata": {},
   "outputs": [],
   "source": []
  },
  {
   "cell_type": "code",
   "execution_count": null,
   "metadata": {},
   "outputs": [],
   "source": []
  },
  {
   "cell_type": "code",
   "execution_count": null,
   "metadata": {},
   "outputs": [],
   "source": []
  },
  {
   "cell_type": "code",
   "execution_count": null,
   "metadata": {},
   "outputs": [],
   "source": []
  },
  {
   "cell_type": "code",
   "execution_count": null,
   "metadata": {},
   "outputs": [],
   "source": []
  },
  {
   "cell_type": "markdown",
   "metadata": {},
   "source": [
    "# Stats"
   ]
  },
  {
   "cell_type": "markdown",
   "metadata": {},
   "source": [
    "explore.run_stats_on_everything(train, categorical_target, continuous_target, binary_vars, quant_vars)"
   ]
  },
  {
   "cell_type": "code",
   "execution_count": null,
   "metadata": {},
   "outputs": [],
   "source": []
  },
  {
   "cell_type": "code",
   "execution_count": null,
   "metadata": {},
   "outputs": [],
   "source": []
  },
  {
   "cell_type": "markdown",
   "metadata": {},
   "source": [
    "1. Ask at least 5 questions about the data, keeping in mind that your target variable is logerror. e.g. Is logerror significantly different for properties in LA County vs Orange County vs Ventura County?"
   ]
  },
  {
   "cell_type": "code",
   "execution_count": null,
   "metadata": {},
   "outputs": [],
   "source": []
  },
  {
   "cell_type": "markdown",
   "metadata": {},
   "source": [
    "2. Answer those questions through a mix of statistical tests and visualizations."
   ]
  },
  {
   "cell_type": "code",
   "execution_count": null,
   "metadata": {},
   "outputs": [],
   "source": []
  },
  {
   "cell_type": "markdown",
   "metadata": {},
   "source": [
    "Bonus:\n",
    "- Compute the mean(logerror) by zipcode and the overall mean(logerror). Write a loop that will run a t-test between the overall mean and the mean for each zip code. We want to identify the zip codes where the error is significantly higher or lower than the expected error."
   ]
  },
  {
   "cell_type": "code",
   "execution_count": null,
   "metadata": {},
   "outputs": [],
   "source": []
  }
 ],
 "metadata": {
  "kernelspec": {
   "display_name": "Python 3",
   "language": "python",
   "name": "python3"
  },
  "language_info": {
   "codemirror_mode": {
    "name": "ipython",
    "version": 3
   },
   "file_extension": ".py",
   "mimetype": "text/x-python",
   "name": "python",
   "nbconvert_exporter": "python",
   "pygments_lexer": "ipython3",
   "version": "3.8.5"
  }
 },
 "nbformat": 4,
 "nbformat_minor": 4
}
