{
 "cells": [
  {
   "cell_type": "code",
   "execution_count": 5,
   "metadata": {},
   "outputs": [],
   "source": [
    "import matplotlib.pyplot as plt\n",
    "import numpy as np"
   ]
  },
  {
   "cell_type": "code",
   "execution_count": 40,
   "metadata": {
    "scrolled": false
   },
   "outputs": [
    {
     "data": {
      "image/png": "[encoded data removed]",
      "text/plain": [
       "<Figure size 720x360 with 1 Axes>"
      ]
     },
     "metadata": {
      "needs_background": "light"
     },
     "output_type": "display_data"
    }
   ],
   "source": [
    "#1 Use matplotlib to plot the following equation: y = x^2 − x + 2\n",
    "# You'll need to write the code that generates the x and y points.\n",
    "# Add an anotation for the point 0, 0, the origin.\n",
    "\n",
    "x = np.linspace(0, 3) \n",
    "y = x** 2-x+2\n",
    "fig = plt.figure(figsize = (10, 5)) \n",
    "plt.annotate('This is (0,0)', xy = (0, 0), xytext = (1, 1), arrowprops = \n",
    "             dict(facecolor = 'gray'))\n",
    "\n",
    "plt.plot(x, y) \n",
    "plt.show() \n"
   ]
  },
  {
   "cell_type": "code",
   "execution_count": 45,
   "metadata": {},
   "outputs": [
    {
     "ename": "TypeError",
     "evalue": "must be real number, not range",
     "output_type": "error",
     "traceback": [
      "\u001b[0;31m---------------------------------------------------------------------------\u001b[0m",
      "\u001b[0;31mTypeError\u001b[0m                                 Traceback (most recent call last)",
      "\u001b[0;32m<ipython-input-45-60873c9d2104>\u001b[0m in \u001b[0;36m<module>\u001b[0;34m\u001b[0m\n\u001b[1;32m      7\u001b[0m \u001b[0;34m\u001b[0m\u001b[0m\n\u001b[1;32m      8\u001b[0m \u001b[0mx\u001b[0m \u001b[0;34m=\u001b[0m \u001b[0mrange\u001b[0m\u001b[0;34m(\u001b[0m\u001b[0;36m1\u001b[0m\u001b[0;34m,\u001b[0m \u001b[0;36m10\u001b[0m\u001b[0;34m)\u001b[0m\u001b[0;34m\u001b[0m\u001b[0;34m\u001b[0m\u001b[0m\n\u001b[0;32m----> 9\u001b[0;31m \u001b[0my\u001b[0m \u001b[0;34m=\u001b[0m \u001b[0mmath\u001b[0m\u001b[0;34m.\u001b[0m\u001b[0msqrt\u001b[0m\u001b[0;34m(\u001b[0m\u001b[0mx\u001b[0m\u001b[0;34m)\u001b[0m\u001b[0;34m\u001b[0m\u001b[0;34m\u001b[0m\u001b[0m\n\u001b[0m\u001b[1;32m     10\u001b[0m \u001b[0;34m\u001b[0m\u001b[0m\n\u001b[1;32m     11\u001b[0m \u001b[0mplt\u001b[0m\u001b[0;34m.\u001b[0m\u001b[0msubplot\u001b[0m\u001b[0;34m(\u001b[0m\u001b[0mn_rows\u001b[0m\u001b[0;34m,\u001b[0m \u001b[0mn_cols\u001b[0m\u001b[0;34m,\u001b[0m \u001b[0;36m1\u001b[0m\u001b[0;34m)\u001b[0m\u001b[0;34m\u001b[0m\u001b[0;34m\u001b[0m\u001b[0m\n",
      "\u001b[0;31mTypeError\u001b[0m: must be real number, not range"
     ]
    }
   ],
   "source": [
    "#2.1 Create and label 4 separate charts for the following equation: y = √x\n",
    "#(choose a range for x that makes sense) You can use functions from the math module to help \n",
    "#implement some of the equations above.\n",
    "import math\n",
    "n_rows = 1\n",
    "n_cols = 2\n",
    "\n",
    "x = range(1, 10)\n",
    "y = math.sqrt(x)\n",
    "\n",
    "plt.subplot(n_rows, n_cols, 1)\n",
    "plt.plot(x, y)\n",
    "plt.title('Graph 1')\n",
    "\n",
    "plt.subplot(n_rows, n_cols, 2)\n",
    "plt.plot(x, y)\n",
    "plt.title('Graph 2')\n",
    "\n",
    "plt.subplot(n_rows, n_cols, 3)\n",
    "plt.plot(x, y)\n",
    "plt.title('Graph 3')\n",
    "\n",
    "plt.subplot(n_rows, n_cols, 4)\n",
    "plt.plot(x, y)\n",
    "plt.title('Graph 4')"
   ]
  },
  {
   "cell_type": "code",
   "execution_count": null,
   "metadata": {},
   "outputs": [],
   "source": [
    "#2.2 Create and label 4 separate charts for the following equation:  y = x^3\n",
    "#(choose a range for x that makes sense) You can use functions from the math module to help \n",
    "#implement some of the equations above."
   ]
  },
  {
   "cell_type": "code",
   "execution_count": null,
   "metadata": {},
   "outputs": [],
   "source": [
    "#2.3 Create and label 4 separate charts for the following equation: y = 2^x \n",
    "#(choose a range for x that makes sense) You can use functions from the math module to help \n",
    "#implement some of the equations above."
   ]
  },
  {
   "cell_type": "code",
   "execution_count": null,
   "metadata": {},
   "outputs": [],
   "source": [
    "#2.4 Create and label 4 separate charts for the following equation: y = 1/(x+1)\n",
    "#(choose a range for x that makes sense) You can use functions from the math module to help \n",
    "#implement some of the equations above."
   ]
  },
  {
   "cell_type": "code",
   "execution_count": null,
   "metadata": {},
   "outputs": [],
   "source": [
    "#3 Combine the figures you created in the last step into one large figure with 4 subplots."
   ]
  },
  {
   "cell_type": "code",
   "execution_count": null,
   "metadata": {},
   "outputs": [],
   "source": [
    "#4 Combine the figures you created in the last step into one figure where each of the 4 \n",
    "#equations has a different color for the points. Be sure to include a legend and an \n",
    "# appropriate title for the figure."
   ]
  }
 ],
 "metadata": {
  "kernelspec": {
   "display_name": "Python 3",
   "language": "python",
   "name": "python3"
  },
  "language_info": {
   "codemirror_mode": {
    "name": "ipython",
    "version": 3
   },
   "file_extension": ".py",
   "mimetype": "text/x-python",
   "name": "python",
   "nbconvert_exporter": "python",
   "pygments_lexer": "ipython3",
   "version": "3.8.5"
  }
 },
 "nbformat": 4,
 "nbformat_minor": 4
}
