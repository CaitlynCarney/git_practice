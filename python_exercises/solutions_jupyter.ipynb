{
 "cells": [
  {
   "cell_type": "markdown",
   "metadata": {},
   "source": [
    "# Python Assessment\n",
    "## Instructions\n",
    "- Carefully read through the instructions and problems before beginning work.\n",
    "- Do your work in a file named solutions.py. It does not matter where this file is on your computer, but keep track of the location so that you can turn it in.\n",
    "- When the time is up, upload your solutions.py file to Google Classroom."
   ]
  },
  {
   "cell_type": "markdown",
   "metadata": {},
   "source": [
    "# Grading\n",
    "- Your assessment will be graded based on the examples given.\n",
    "- One point will be awarded for each problem that is correctly solved.\n",
    "- Each problem includes sample output from an interactive Python session (i.e. running the python command from your terminal). If the examples for each problem can be run, and the correct output produced, you will receive credit for the problem.\n",
    "- No partial credit will be awarded, and no credit is given if the function is misnamed, or if the function does not run (i.e. it produces an error when we try to run it)."
   ]
  },
  {
   "cell_type": "code",
   "execution_count": 16,
   "metadata": {},
   "outputs": [
    {
     "name": "stdout",
     "output_type": "stream",
     "text": [
      "Please enter a number (negative or positive): 9\n",
      "False\n"
     ]
    }
   ],
   "source": [
    "#1 Write a function named isnegative. It should accept a number and return a boolean value \n",
    "#based on whether the input is negative.\n",
    "number = int(input(\"Please enter a number (negative or positive): \"))\n",
    "def isnegative(number):\n",
    "    if number < 0:\n",
    "        answer = True\n",
    "    else:\n",
    "        answer = False\n",
    "    return answer\n",
    "print(isnegative(number))"
   ]
  },
  {
   "cell_type": "code",
   "execution_count": 167,
   "metadata": {},
   "outputs": [
    {
     "name": "stdout",
     "output_type": "stream",
     "text": [
      "4 8 10 12 None\n"
     ]
    }
   ],
   "source": [
    "#2 Write a function named count_evens. It should accept a list and return the number of even \n",
    "#numbers in the list.\n",
    "numbers = [4, 5, 8, 10, 12]\n",
    "def count_evens(numbers):\n",
    "    for num in numbers:\n",
    "        if num % 2 == 0: \n",
    "           print(num, end = \" \") \n",
    "\n",
    "print(count_evens(numbers))"
   ]
  },
  {
   "cell_type": "code",
   "execution_count": 130,
   "metadata": {},
   "outputs": [
    {
     "name": "stdout",
     "output_type": "stream",
     "text": [
      "5 None\n"
     ]
    }
   ],
   "source": [
    "#3 Write a function named increment_odds. It should accept a list of numbers and return a new \n",
    "#list with the odd numbers from the original list incremented.\n",
    "numbers = [4, 5, 8, 10, 12]\n",
    "def increment_odds(numbers):\n",
    "    for num in numbers:\n",
    "        if num % 2 != 0: \n",
    "           print(num, end = \" \") \n",
    "\n",
    "print(increment_odds(numbers))"
   ]
  },
  {
   "cell_type": "code",
   "execution_count": 95,
   "metadata": {},
   "outputs": [
    {
     "name": "stdout",
     "output_type": "stream",
     "text": [
      "8.0\n"
     ]
    }
   ],
   "source": [
    "#4 Write a function named average. It should accept a list of numbers and return the mean of \n",
    "#the numbers.\n",
    "def average(numbers):\n",
    "    return sum(numbers) / len(numbers)\n",
    "numbers = [4, 6, 8, 10, 12]\n",
    "print(average(numbers))"
   ]
  },
  {
   "cell_type": "code",
   "execution_count": 128,
   "metadata": {},
   "outputs": [
    {
     "name": "stdout",
     "output_type": "stream",
     "text": [
      "first_name = Caitlyn\n",
      "last_name = Carney\n"
     ]
    }
   ],
   "source": [
    "#5 Create a function named name_to_dict. It should accept a string that is a first name and \n",
    "#last name separated by a space, and return a dictionary with first_name and last_name keys.\n",
    "\n",
    "def name_to_dict(name):\n",
    "    first, last = name.split()\n",
    "    print(\"first_name = {first}\".format(first=first))\n",
    "    return(\"last_name = {last}\".format(last=last))\n",
    "print(name_to_dict(name))"
   ]
  },
  {
   "cell_type": "code",
   "execution_count": 163,
   "metadata": {},
   "outputs": [
    {
     "name": "stdout",
     "output_type": "stream",
     "text": [
      "The dictionary after conversion {'first_name': ['Caitlyn'], 'last_name': ['Carney']}\n"
     ]
    }
   ],
   "source": [
    "#6 Write a function named capitalize_names. It should accept a list of dictionaries where each \n",
    "#dictionary represents a person and has keys first_name and last_name. It should return a list \n",
    "#of dictionaries with each person's name capitalized.\n",
    "names = {\"first_name\" : [\"Caitlyn\"], \n",
    "             \"last_name\" : [\"Carney\"]} \n",
    "def capitalize_names(names): \n",
    "    print(\"The original dictionary is : \" + str(names))  \n",
    "    res = {key: list(map(str.upper, names[key])) for key in names} \n",
    "print(\"The dictionary after conversion \" + str(names))  \n"
   ]
  },
  {
   "cell_type": "code",
   "execution_count": 184,
   "metadata": {},
   "outputs": [
    {
     "name": "stdout",
     "output_type": "stream",
     "text": [
      "{'FIRST_NAME': 'CAITLYN', 'LAST_NAME': 'CARNEY'}\n"
     ]
    }
   ],
   "source": [
    "names = {'first_name': \"Caitlyn\", 'last_name': \"Carney\"}\n",
    "def capitalize_names(d):\n",
    "   new_dict = dict((k.upper(), v.upper()) for k, v in d.items())\n",
    "   return new_dict\n",
    "print(capitalize_names(names))"
   ]
  },
  {
   "cell_type": "code",
   "execution_count": 185,
   "metadata": {},
   "outputs": [
    {
     "name": "stdout",
     "output_type": "stream",
     "text": [
      "Please enter a word: please\n",
      "3\n"
     ]
    }
   ],
   "source": [
    "#7 Write a function named count_vowels. It should accept a word and return a number that is the \n",
    "#number of vowels in the given word. \"y\" should not count as a vowel.\n",
    "word = input('Please enter a word: ')\n",
    "def count_vowels(word):\n",
    "    count = 0\n",
    "    vowel = \"aeiouAEIOU\"\n",
    "    for letter in word: \n",
    "        if letter in vowel: \n",
    "            count = count + 1\n",
    "    return(count) \n",
    "    \n",
    "print(count_vowels(word))"
   ]
  },
  {
   "cell_type": "code",
   "execution_count": 206,
   "metadata": {},
   "outputs": [
    {
     "name": "stdout",
     "output_type": "stream",
     "text": [
      "6\n",
      "{'num_of_characters': None, 'original_word': 'please', 'vowel_count': <function analyze_word.<locals>.count_vowels at 0x7fbf1003f310>}\n"
     ]
    }
   ],
   "source": [
    "#8 Write a function named analyze_word. It should accept a string that is a word and return a \n",
    "#dictionary with information about the word: the total number of characters in the word, the \n",
    "#original word, and the number of vowels in the word.\n",
    "def analyze_word(word):\n",
    "    def count_characters(word):\n",
    "        count_letters = len(word)\n",
    "        print(count_letters)\n",
    "    def count_vowels(word):\n",
    "        count = 0\n",
    "        vowel = \"aeiouAEIOU\"\n",
    "        for letter in word: \n",
    "            if letter in vowel: \n",
    "                count = count + 1\n",
    "        print(count) \n",
    "    dictionary = {'num_of_characters': count_characters(word), 'original_word': word, \n",
    "                         'vowel_count': count_vowels}\n",
    "    return dictionary\n",
    "\n",
    "print(analyze_word(word))"
   ]
  },
  {
   "cell_type": "code",
   "execution_count": null,
   "metadata": {},
   "outputs": [],
   "source": []
  }
 ],
 "metadata": {
  "kernelspec": {
   "display_name": "Python 3",
   "language": "python",
   "name": "python3"
  },
  "language_info": {
   "codemirror_mode": {
    "name": "ipython",
    "version": 3
   },
   "file_extension": ".py",
   "mimetype": "text/x-python",
   "name": "python",
   "nbconvert_exporter": "python",
   "pygments_lexer": "ipython3",
   "version": "3.8.5"
  }
 },
 "nbformat": 4,
 "nbformat_minor": 4
}
