{
 "cells": [
  {
   "cell_type": "markdown",
   "metadata": {},
   "source": [
    "# Ravinder's Lesson"
   ]
  },
  {
   "cell_type": "code",
   "execution_count": 1,
   "metadata": {},
   "outputs": [],
   "source": [
    "import warnings\n",
    "warnings.filterwarnings(\"ignore\")\n",
    "\n",
    "# Wrangling\n",
    "import pandas as pd\n",
    "import numpy as np\n",
    "\n",
    "# Exploring\n",
    "import scipy.stats as stats\n",
    "\n",
    "# Visualizing\n",
    "%matplotlib inline\n",
    "import matplotlib.pyplot as plt\n",
    "import seaborn as sns\n",
    "\n",
    "# SKLEARN\n",
    "from sklearn.impute import KNNImputer\n",
    "from sklearn.impute import SimpleImputer\n",
    "\n",
    "# default pandas decimal number display format\n",
    "pd.options.display.float_format = '{:.2f}'.format"
   ]
  },
  {
   "cell_type": "code",
   "execution_count": 2,
   "metadata": {},
   "outputs": [],
   "source": [
    "# google sheet: https://docs.google.com/spreadsheets/d/14L32EfCmr2asv85i08fla6jf1KakJVcLYaJMkXQ4_p0/edit#gid=0    \n",
    "\n",
    "#Note: Data has been filtered/changed a bit from orginal form to demonstrate null and outlier handling.\n",
    "\n",
    "sheet_url = 'https://docs.google.com/spreadsheets/d/14L32EfCmr2asv85i08fla6jf1KakJVcLYaJMkXQ4_p0/edit#gid=0'    \n",
    "\n",
    "csv_export_url = sheet_url.replace('/edit#gid=', '/export?format=csv&gid=')\n",
    "\n",
    "df = pd.read_csv(csv_export_url)"
   ]
  },
  {
   "cell_type": "code",
   "execution_count": 3,
   "metadata": {},
   "outputs": [
    {
     "data": {
      "text/html": [
       "<div>\n",
       "<style scoped>\n",
       "    .dataframe tbody tr th:only-of-type {\n",
       "        vertical-align: middle;\n",
       "    }\n",
       "\n",
       "    .dataframe tbody tr th {\n",
       "        vertical-align: top;\n",
       "    }\n",
       "\n",
       "    .dataframe thead th {\n",
       "        text-align: right;\n",
       "    }\n",
       "</style>\n",
       "<table border=\"1\" class=\"dataframe\">\n",
       "  <thead>\n",
       "    <tr style=\"text-align: right;\">\n",
       "      <th></th>\n",
       "      <th>Respondent</th>\n",
       "      <th>Hobbyist</th>\n",
       "      <th>Age</th>\n",
       "      <th>Age1stCode</th>\n",
       "      <th>Comp</th>\n",
       "      <th>Ethnicity</th>\n",
       "      <th>Gender</th>\n",
       "      <th>YearsCode</th>\n",
       "      <th>YearsCodePro</th>\n",
       "    </tr>\n",
       "  </thead>\n",
       "  <tbody>\n",
       "    <tr>\n",
       "      <th>0</th>\n",
       "      <td>8</td>\n",
       "      <td>Yes</td>\n",
       "      <td>36.00</td>\n",
       "      <td>12</td>\n",
       "      <td>116000</td>\n",
       "      <td>White or of European descent</td>\n",
       "      <td>Man</td>\n",
       "      <td>17</td>\n",
       "      <td>13</td>\n",
       "    </tr>\n",
       "    <tr>\n",
       "      <th>1</th>\n",
       "      <td>14</td>\n",
       "      <td>Yes</td>\n",
       "      <td>27.00</td>\n",
       "      <td>13</td>\n",
       "      <td>66000</td>\n",
       "      <td>White or of European descent</td>\n",
       "      <td>Man</td>\n",
       "      <td>5</td>\n",
       "      <td>1</td>\n",
       "    </tr>\n",
       "    <tr>\n",
       "      <th>2</th>\n",
       "      <td>17</td>\n",
       "      <td>Yes</td>\n",
       "      <td>25.00</td>\n",
       "      <td>14</td>\n",
       "      <td>79000</td>\n",
       "      <td>White or of European descent</td>\n",
       "      <td>Man</td>\n",
       "      <td>7</td>\n",
       "      <td>3</td>\n",
       "    </tr>\n",
       "    <tr>\n",
       "      <th>3</th>\n",
       "      <td>18</td>\n",
       "      <td>Yes</td>\n",
       "      <td>32.00</td>\n",
       "      <td>12</td>\n",
       "      <td>1260000</td>\n",
       "      <td>White or of European descent</td>\n",
       "      <td>Man</td>\n",
       "      <td>19</td>\n",
       "      <td>12</td>\n",
       "    </tr>\n",
       "    <tr>\n",
       "      <th>4</th>\n",
       "      <td>19</td>\n",
       "      <td>No</td>\n",
       "      <td>24.00</td>\n",
       "      <td>15</td>\n",
       "      <td>83400</td>\n",
       "      <td>White or of European descent</td>\n",
       "      <td>Man</td>\n",
       "      <td>9</td>\n",
       "      <td>3</td>\n",
       "    </tr>\n",
       "  </tbody>\n",
       "</table>\n",
       "</div>"
      ],
      "text/plain": [
       "   Respondent Hobbyist   Age Age1stCode     Comp  \\\n",
       "0           8      Yes 36.00         12   116000   \n",
       "1          14      Yes 27.00         13    66000   \n",
       "2          17      Yes 25.00         14    79000   \n",
       "3          18      Yes 32.00         12  1260000   \n",
       "4          19       No 24.00         15    83400   \n",
       "\n",
       "                      Ethnicity Gender YearsCode YearsCodePro  \n",
       "0  White or of European descent    Man        17           13  \n",
       "1  White or of European descent    Man         5            1  \n",
       "2  White or of European descent    Man         7            3  \n",
       "3  White or of European descent    Man        19           12  \n",
       "4  White or of European descent    Man         9            3  "
      ]
     },
     "execution_count": 3,
     "metadata": {},
     "output_type": "execute_result"
    }
   ],
   "source": [
    "df.head()"
   ]
  },
  {
   "cell_type": "code",
   "execution_count": 4,
   "metadata": {},
   "outputs": [
    {
     "name": "stdout",
     "output_type": "stream",
     "text": [
      "<class 'pandas.core.frame.DataFrame'>\n",
      "RangeIndex: 8152 entries, 0 to 8151\n",
      "Data columns (total 9 columns):\n",
      " #   Column        Non-Null Count  Dtype  \n",
      "---  ------        --------------  -----  \n",
      " 0   Respondent    8152 non-null   int64  \n",
      " 1   Hobbyist      8152 non-null   object \n",
      " 2   Age           7229 non-null   float64\n",
      " 3   Age1stCode    8136 non-null   object \n",
      " 4   Comp          8152 non-null   int64  \n",
      " 5   Ethnicity     3087 non-null   object \n",
      " 6   Gender        7575 non-null   object \n",
      " 7   YearsCode     8132 non-null   object \n",
      " 8   YearsCodePro  8136 non-null   object \n",
      "dtypes: float64(1), int64(2), object(6)\n",
      "memory usage: 573.3+ KB\n"
     ]
    }
   ],
   "source": [
    "df.info()\n",
    "# have some null values\n",
    "    # specially in ethnicity\n",
    "# years code and years code pro are objects\n",
    "    # need to address this"
   ]
  },
  {
   "cell_type": "markdown",
   "metadata": {},
   "source": [
    "### Explore factors influencing Compensation\n",
    "Target = Compensation"
   ]
  },
  {
   "cell_type": "markdown",
   "metadata": {},
   "source": [
    "### How to handle nulls and Outliers"
   ]
  },
  {
   "cell_type": "markdown",
   "metadata": {},
   "source": [
    "### How do I handle missing data (nulls) in my dataset?\n",
    "- Drop the nulls\n",
    "    - drop columns\n",
    "    - drop rows\n",
    "- Impute missing values\n",
    "    - fillna with \n",
    "        - mean of the column\n",
    "        - median of the column\n",
    "        - mode of the column\n",
    "    - Impute using some other algorithms - KNN imputeror simple imputer\n",
    "        - dont jsut use mean and median but are distance based\n",
    "            - think of making a profile for diffent peopl\n",
    "                - Exmaple\n",
    "                    - this person has been coding this long, get spaid this amount s they must be a hobbyist\n",
    "- Use algorithms which can handle nulls\n",
    "    - Ignores missing values\n",
    "- Boolean flags for missing data"
   ]
  },
  {
   "cell_type": "code",
   "execution_count": 5,
   "metadata": {},
   "outputs": [
    {
     "data": {
      "text/plain": [
       "Respondent         0\n",
       "Hobbyist           0\n",
       "Age              923\n",
       "Age1stCode        16\n",
       "Comp               0\n",
       "Ethnicity       5065\n",
       "Gender           577\n",
       "YearsCode         20\n",
       "YearsCodePro      16\n",
       "dtype: int64"
      ]
     },
     "execution_count": 5,
     "metadata": {},
     "output_type": "execute_result"
    }
   ],
   "source": [
    "# How many nulls have in each column?\n",
    "df.isnull().sum()"
   ]
  },
  {
   "cell_type": "code",
   "execution_count": 6,
   "metadata": {},
   "outputs": [
    {
     "data": {
      "text/plain": [
       "Respondent      0.00\n",
       "Hobbyist        0.00\n",
       "Age            11.32\n",
       "Age1stCode      0.20\n",
       "Comp            0.00\n",
       "Ethnicity      62.13\n",
       "Gender          7.08\n",
       "YearsCode       0.25\n",
       "YearsCodePro    0.20\n",
       "dtype: float64"
      ]
     },
     "execution_count": 6,
     "metadata": {},
     "output_type": "execute_result"
    }
   ],
   "source": [
    "# % values missing in each column\n",
    "df.isnull().sum()/len(df)*100"
   ]
  },
  {
   "cell_type": "code",
   "execution_count": 7,
   "metadata": {},
   "outputs": [
    {
     "data": {
      "text/plain": [
       "1    4444\n",
       "0    2872\n",
       "3     486\n",
       "2     344\n",
       "4       4\n",
       "6       1\n",
       "5       1\n",
       "dtype: int64"
      ]
     },
     "execution_count": 7,
     "metadata": {},
     "output_type": "execute_result"
    }
   ],
   "source": [
    "# How many nulls have in each row?\n",
    "df.isnull().sum(axis=1).value_counts()"
   ]
  },
  {
   "cell_type": "code",
   "execution_count": 8,
   "metadata": {},
   "outputs": [],
   "source": [
    "# Drop columns or rows using dropna() based on a threshold"
   ]
  },
  {
   "cell_type": "code",
   "execution_count": 9,
   "metadata": {},
   "outputs": [
    {
     "data": {
      "text/plain": [
       "8152"
      ]
     },
     "execution_count": 9,
     "metadata": {},
     "output_type": "execute_result"
    }
   ],
   "source": [
    "len(df.index)\n",
    "# I have this many observations"
   ]
  },
  {
   "cell_type": "code",
   "execution_count": 10,
   "metadata": {},
   "outputs": [
    {
     "data": {
      "text/plain": [
       "4076.0"
      ]
     },
     "execution_count": 10,
     "metadata": {},
     "output_type": "execute_result"
    }
   ],
   "source": [
    "len(df.index)*0.5\n",
    "# So this is half of how many rows I have"
   ]
  },
  {
   "cell_type": "code",
   "execution_count": 11,
   "metadata": {},
   "outputs": [
    {
     "data": {
      "text/html": [
       "<div>\n",
       "<style scoped>\n",
       "    .dataframe tbody tr th:only-of-type {\n",
       "        vertical-align: middle;\n",
       "    }\n",
       "\n",
       "    .dataframe tbody tr th {\n",
       "        vertical-align: top;\n",
       "    }\n",
       "\n",
       "    .dataframe thead th {\n",
       "        text-align: right;\n",
       "    }\n",
       "</style>\n",
       "<table border=\"1\" class=\"dataframe\">\n",
       "  <thead>\n",
       "    <tr style=\"text-align: right;\">\n",
       "      <th></th>\n",
       "      <th>Respondent</th>\n",
       "      <th>Hobbyist</th>\n",
       "      <th>Age</th>\n",
       "      <th>Age1stCode</th>\n",
       "      <th>Comp</th>\n",
       "      <th>Gender</th>\n",
       "      <th>YearsCode</th>\n",
       "      <th>YearsCodePro</th>\n",
       "    </tr>\n",
       "  </thead>\n",
       "  <tbody>\n",
       "    <tr>\n",
       "      <th>0</th>\n",
       "      <td>8</td>\n",
       "      <td>Yes</td>\n",
       "      <td>36.00</td>\n",
       "      <td>12</td>\n",
       "      <td>116000</td>\n",
       "      <td>Man</td>\n",
       "      <td>17</td>\n",
       "      <td>13</td>\n",
       "    </tr>\n",
       "    <tr>\n",
       "      <th>1</th>\n",
       "      <td>14</td>\n",
       "      <td>Yes</td>\n",
       "      <td>27.00</td>\n",
       "      <td>13</td>\n",
       "      <td>66000</td>\n",
       "      <td>Man</td>\n",
       "      <td>5</td>\n",
       "      <td>1</td>\n",
       "    </tr>\n",
       "    <tr>\n",
       "      <th>2</th>\n",
       "      <td>17</td>\n",
       "      <td>Yes</td>\n",
       "      <td>25.00</td>\n",
       "      <td>14</td>\n",
       "      <td>79000</td>\n",
       "      <td>Man</td>\n",
       "      <td>7</td>\n",
       "      <td>3</td>\n",
       "    </tr>\n",
       "    <tr>\n",
       "      <th>3</th>\n",
       "      <td>18</td>\n",
       "      <td>Yes</td>\n",
       "      <td>32.00</td>\n",
       "      <td>12</td>\n",
       "      <td>1260000</td>\n",
       "      <td>Man</td>\n",
       "      <td>19</td>\n",
       "      <td>12</td>\n",
       "    </tr>\n",
       "    <tr>\n",
       "      <th>4</th>\n",
       "      <td>19</td>\n",
       "      <td>No</td>\n",
       "      <td>24.00</td>\n",
       "      <td>15</td>\n",
       "      <td>83400</td>\n",
       "      <td>Man</td>\n",
       "      <td>9</td>\n",
       "      <td>3</td>\n",
       "    </tr>\n",
       "    <tr>\n",
       "      <th>...</th>\n",
       "      <td>...</td>\n",
       "      <td>...</td>\n",
       "      <td>...</td>\n",
       "      <td>...</td>\n",
       "      <td>...</td>\n",
       "      <td>...</td>\n",
       "      <td>...</td>\n",
       "      <td>...</td>\n",
       "    </tr>\n",
       "    <tr>\n",
       "      <th>8147</th>\n",
       "      <td>65589</td>\n",
       "      <td>Yes</td>\n",
       "      <td>nan</td>\n",
       "      <td>16</td>\n",
       "      <td>150000</td>\n",
       "      <td>NaN</td>\n",
       "      <td>10</td>\n",
       "      <td>6</td>\n",
       "    </tr>\n",
       "    <tr>\n",
       "      <th>8148</th>\n",
       "      <td>65596</td>\n",
       "      <td>Yes</td>\n",
       "      <td>nan</td>\n",
       "      <td>22</td>\n",
       "      <td>70000</td>\n",
       "      <td>NaN</td>\n",
       "      <td>6</td>\n",
       "      <td>4</td>\n",
       "    </tr>\n",
       "    <tr>\n",
       "      <th>8149</th>\n",
       "      <td>65602</td>\n",
       "      <td>Yes</td>\n",
       "      <td>nan</td>\n",
       "      <td>13</td>\n",
       "      <td>140000</td>\n",
       "      <td>NaN</td>\n",
       "      <td>15</td>\n",
       "      <td>12</td>\n",
       "    </tr>\n",
       "    <tr>\n",
       "      <th>8150</th>\n",
       "      <td>65604</td>\n",
       "      <td>No</td>\n",
       "      <td>nan</td>\n",
       "      <td>13</td>\n",
       "      <td>150000</td>\n",
       "      <td>NaN</td>\n",
       "      <td>7</td>\n",
       "      <td>4</td>\n",
       "    </tr>\n",
       "    <tr>\n",
       "      <th>8151</th>\n",
       "      <td>65629</td>\n",
       "      <td>Yes</td>\n",
       "      <td>41.00</td>\n",
       "      <td>15</td>\n",
       "      <td>200</td>\n",
       "      <td>Man</td>\n",
       "      <td>25</td>\n",
       "      <td>20</td>\n",
       "    </tr>\n",
       "  </tbody>\n",
       "</table>\n",
       "<p>8152 rows × 8 columns</p>\n",
       "</div>"
      ],
      "text/plain": [
       "      Respondent Hobbyist   Age Age1stCode     Comp Gender YearsCode  \\\n",
       "0              8      Yes 36.00         12   116000    Man        17   \n",
       "1             14      Yes 27.00         13    66000    Man         5   \n",
       "2             17      Yes 25.00         14    79000    Man         7   \n",
       "3             18      Yes 32.00         12  1260000    Man        19   \n",
       "4             19       No 24.00         15    83400    Man         9   \n",
       "...          ...      ...   ...        ...      ...    ...       ...   \n",
       "8147       65589      Yes   nan         16   150000    NaN        10   \n",
       "8148       65596      Yes   nan         22    70000    NaN         6   \n",
       "8149       65602      Yes   nan         13   140000    NaN        15   \n",
       "8150       65604       No   nan         13   150000    NaN         7   \n",
       "8151       65629      Yes 41.00         15      200    Man        25   \n",
       "\n",
       "     YearsCodePro  \n",
       "0              13  \n",
       "1               1  \n",
       "2               3  \n",
       "3              12  \n",
       "4               3  \n",
       "...           ...  \n",
       "8147            6  \n",
       "8148            4  \n",
       "8149           12  \n",
       "8150            4  \n",
       "8151           20  \n",
       "\n",
       "[8152 rows x 8 columns]"
      ]
     },
     "execution_count": 11,
     "metadata": {},
     "output_type": "execute_result"
    }
   ],
   "source": [
    "# Drop rows using dropna() based on a threshold\n",
    "\n",
    "# threshold: Require that many non-NA values to survive. \n",
    "\n",
    "df.dropna(axis = 1, thresh = 0.5 * len(df.index))\n",
    "    # if im missing 50% of values im just going to drop it"
   ]
  },
  {
   "cell_type": "code",
   "execution_count": 12,
   "metadata": {},
   "outputs": [
    {
     "data": {
      "text/plain": [
       "9"
      ]
     },
     "execution_count": 12,
     "metadata": {},
     "output_type": "execute_result"
    }
   ],
   "source": [
    "len(df.columns)\n",
    "# I have 9 columns"
   ]
  },
  {
   "cell_type": "code",
   "execution_count": 13,
   "metadata": {},
   "outputs": [
    {
     "data": {
      "text/html": [
       "<div>\n",
       "<style scoped>\n",
       "    .dataframe tbody tr th:only-of-type {\n",
       "        vertical-align: middle;\n",
       "    }\n",
       "\n",
       "    .dataframe tbody tr th {\n",
       "        vertical-align: top;\n",
       "    }\n",
       "\n",
       "    .dataframe thead th {\n",
       "        text-align: right;\n",
       "    }\n",
       "</style>\n",
       "<table border=\"1\" class=\"dataframe\">\n",
       "  <thead>\n",
       "    <tr style=\"text-align: right;\">\n",
       "      <th></th>\n",
       "      <th>Respondent</th>\n",
       "      <th>Hobbyist</th>\n",
       "      <th>Age</th>\n",
       "      <th>Age1stCode</th>\n",
       "      <th>Comp</th>\n",
       "      <th>Ethnicity</th>\n",
       "      <th>Gender</th>\n",
       "      <th>YearsCode</th>\n",
       "      <th>YearsCodePro</th>\n",
       "    </tr>\n",
       "  </thead>\n",
       "  <tbody>\n",
       "    <tr>\n",
       "      <th>0</th>\n",
       "      <td>8</td>\n",
       "      <td>Yes</td>\n",
       "      <td>36.00</td>\n",
       "      <td>12</td>\n",
       "      <td>116000</td>\n",
       "      <td>White or of European descent</td>\n",
       "      <td>Man</td>\n",
       "      <td>17</td>\n",
       "      <td>13</td>\n",
       "    </tr>\n",
       "    <tr>\n",
       "      <th>1</th>\n",
       "      <td>14</td>\n",
       "      <td>Yes</td>\n",
       "      <td>27.00</td>\n",
       "      <td>13</td>\n",
       "      <td>66000</td>\n",
       "      <td>White or of European descent</td>\n",
       "      <td>Man</td>\n",
       "      <td>5</td>\n",
       "      <td>1</td>\n",
       "    </tr>\n",
       "    <tr>\n",
       "      <th>2</th>\n",
       "      <td>17</td>\n",
       "      <td>Yes</td>\n",
       "      <td>25.00</td>\n",
       "      <td>14</td>\n",
       "      <td>79000</td>\n",
       "      <td>White or of European descent</td>\n",
       "      <td>Man</td>\n",
       "      <td>7</td>\n",
       "      <td>3</td>\n",
       "    </tr>\n",
       "    <tr>\n",
       "      <th>3</th>\n",
       "      <td>18</td>\n",
       "      <td>Yes</td>\n",
       "      <td>32.00</td>\n",
       "      <td>12</td>\n",
       "      <td>1260000</td>\n",
       "      <td>White or of European descent</td>\n",
       "      <td>Man</td>\n",
       "      <td>19</td>\n",
       "      <td>12</td>\n",
       "    </tr>\n",
       "    <tr>\n",
       "      <th>4</th>\n",
       "      <td>19</td>\n",
       "      <td>No</td>\n",
       "      <td>24.00</td>\n",
       "      <td>15</td>\n",
       "      <td>83400</td>\n",
       "      <td>White or of European descent</td>\n",
       "      <td>Man</td>\n",
       "      <td>9</td>\n",
       "      <td>3</td>\n",
       "    </tr>\n",
       "    <tr>\n",
       "      <th>...</th>\n",
       "      <td>...</td>\n",
       "      <td>...</td>\n",
       "      <td>...</td>\n",
       "      <td>...</td>\n",
       "      <td>...</td>\n",
       "      <td>...</td>\n",
       "      <td>...</td>\n",
       "      <td>...</td>\n",
       "      <td>...</td>\n",
       "    </tr>\n",
       "    <tr>\n",
       "      <th>8147</th>\n",
       "      <td>65589</td>\n",
       "      <td>Yes</td>\n",
       "      <td>nan</td>\n",
       "      <td>16</td>\n",
       "      <td>150000</td>\n",
       "      <td>NaN</td>\n",
       "      <td>NaN</td>\n",
       "      <td>10</td>\n",
       "      <td>6</td>\n",
       "    </tr>\n",
       "    <tr>\n",
       "      <th>8148</th>\n",
       "      <td>65596</td>\n",
       "      <td>Yes</td>\n",
       "      <td>nan</td>\n",
       "      <td>22</td>\n",
       "      <td>70000</td>\n",
       "      <td>NaN</td>\n",
       "      <td>NaN</td>\n",
       "      <td>6</td>\n",
       "      <td>4</td>\n",
       "    </tr>\n",
       "    <tr>\n",
       "      <th>8149</th>\n",
       "      <td>65602</td>\n",
       "      <td>Yes</td>\n",
       "      <td>nan</td>\n",
       "      <td>13</td>\n",
       "      <td>140000</td>\n",
       "      <td>NaN</td>\n",
       "      <td>NaN</td>\n",
       "      <td>15</td>\n",
       "      <td>12</td>\n",
       "    </tr>\n",
       "    <tr>\n",
       "      <th>8150</th>\n",
       "      <td>65604</td>\n",
       "      <td>No</td>\n",
       "      <td>nan</td>\n",
       "      <td>13</td>\n",
       "      <td>150000</td>\n",
       "      <td>NaN</td>\n",
       "      <td>NaN</td>\n",
       "      <td>7</td>\n",
       "      <td>4</td>\n",
       "    </tr>\n",
       "    <tr>\n",
       "      <th>8151</th>\n",
       "      <td>65629</td>\n",
       "      <td>Yes</td>\n",
       "      <td>41.00</td>\n",
       "      <td>15</td>\n",
       "      <td>200</td>\n",
       "      <td>NaN</td>\n",
       "      <td>Man</td>\n",
       "      <td>25</td>\n",
       "      <td>20</td>\n",
       "    </tr>\n",
       "  </tbody>\n",
       "</table>\n",
       "<p>8150 rows × 9 columns</p>\n",
       "</div>"
      ],
      "text/plain": [
       "      Respondent Hobbyist   Age Age1stCode     Comp  \\\n",
       "0              8      Yes 36.00         12   116000   \n",
       "1             14      Yes 27.00         13    66000   \n",
       "2             17      Yes 25.00         14    79000   \n",
       "3             18      Yes 32.00         12  1260000   \n",
       "4             19       No 24.00         15    83400   \n",
       "...          ...      ...   ...        ...      ...   \n",
       "8147       65589      Yes   nan         16   150000   \n",
       "8148       65596      Yes   nan         22    70000   \n",
       "8149       65602      Yes   nan         13   140000   \n",
       "8150       65604       No   nan         13   150000   \n",
       "8151       65629      Yes 41.00         15      200   \n",
       "\n",
       "                         Ethnicity Gender YearsCode YearsCodePro  \n",
       "0     White or of European descent    Man        17           13  \n",
       "1     White or of European descent    Man         5            1  \n",
       "2     White or of European descent    Man         7            3  \n",
       "3     White or of European descent    Man        19           12  \n",
       "4     White or of European descent    Man         9            3  \n",
       "...                            ...    ...       ...          ...  \n",
       "8147                           NaN    NaN        10            6  \n",
       "8148                           NaN    NaN         6            4  \n",
       "8149                           NaN    NaN        15           12  \n",
       "8150                           NaN    NaN         7            4  \n",
       "8151                           NaN    Man        25           20  \n",
       "\n",
       "[8150 rows x 9 columns]"
      ]
     },
     "execution_count": 13,
     "metadata": {},
     "output_type": "execute_result"
    }
   ],
   "source": [
    "# Drop rows using dropna() based on a threshold\n",
    "\n",
    "\n",
    "df.dropna(axis = 0, thresh = 0.5 * len(df.columns))\n",
    "    # if im missing 50% of values in a columnim just going to drop it\n",
    "# threshold: only drop when # of nulls in a row is above the threshold value    \n",
    "    \n",
    "    # now I have dropped 1 row"
   ]
  },
  {
   "cell_type": "code",
   "execution_count": 14,
   "metadata": {},
   "outputs": [],
   "source": [
    "def handle_missing_values(df, prop_required_row = 0.5, prop_required_col = 0.5):\n",
    "    ''' funtcion which takes in a dataframe, required notnull proportions of non-null rows and columns.\n",
    "    drop the columns and rows columns based on theshold:'''\n",
    "    \n",
    "    #drop columns with nulls\n",
    "    threshold = int(prop_required_col * len(df.index)) # Require that many non-NA values.\n",
    "    df.dropna(axis = 1, thresh = threshold, inplace = True)\n",
    "    \n",
    "    #drop rows with nulls\n",
    "    threshold = int(prop_required_row * len(df.columns)) # Require that many non-NA values.\n",
    "    df.dropna(axis = 0, thresh = threshold, inplace = True)\n",
    "    \n",
    "    \n",
    "    return df"
   ]
  },
  {
   "cell_type": "code",
   "execution_count": 15,
   "metadata": {},
   "outputs": [
    {
     "data": {
      "text/html": [
       "<div>\n",
       "<style scoped>\n",
       "    .dataframe tbody tr th:only-of-type {\n",
       "        vertical-align: middle;\n",
       "    }\n",
       "\n",
       "    .dataframe tbody tr th {\n",
       "        vertical-align: top;\n",
       "    }\n",
       "\n",
       "    .dataframe thead th {\n",
       "        text-align: right;\n",
       "    }\n",
       "</style>\n",
       "<table border=\"1\" class=\"dataframe\">\n",
       "  <thead>\n",
       "    <tr style=\"text-align: right;\">\n",
       "      <th></th>\n",
       "      <th>Respondent</th>\n",
       "      <th>Hobbyist</th>\n",
       "      <th>Age</th>\n",
       "      <th>Age1stCode</th>\n",
       "      <th>Comp</th>\n",
       "      <th>Gender</th>\n",
       "      <th>YearsCode</th>\n",
       "      <th>YearsCodePro</th>\n",
       "    </tr>\n",
       "  </thead>\n",
       "  <tbody>\n",
       "    <tr>\n",
       "      <th>0</th>\n",
       "      <td>8</td>\n",
       "      <td>Yes</td>\n",
       "      <td>36.00</td>\n",
       "      <td>12</td>\n",
       "      <td>116000</td>\n",
       "      <td>Man</td>\n",
       "      <td>17</td>\n",
       "      <td>13</td>\n",
       "    </tr>\n",
       "    <tr>\n",
       "      <th>1</th>\n",
       "      <td>14</td>\n",
       "      <td>Yes</td>\n",
       "      <td>27.00</td>\n",
       "      <td>13</td>\n",
       "      <td>66000</td>\n",
       "      <td>Man</td>\n",
       "      <td>5</td>\n",
       "      <td>1</td>\n",
       "    </tr>\n",
       "    <tr>\n",
       "      <th>2</th>\n",
       "      <td>17</td>\n",
       "      <td>Yes</td>\n",
       "      <td>25.00</td>\n",
       "      <td>14</td>\n",
       "      <td>79000</td>\n",
       "      <td>Man</td>\n",
       "      <td>7</td>\n",
       "      <td>3</td>\n",
       "    </tr>\n",
       "    <tr>\n",
       "      <th>3</th>\n",
       "      <td>18</td>\n",
       "      <td>Yes</td>\n",
       "      <td>32.00</td>\n",
       "      <td>12</td>\n",
       "      <td>1260000</td>\n",
       "      <td>Man</td>\n",
       "      <td>19</td>\n",
       "      <td>12</td>\n",
       "    </tr>\n",
       "    <tr>\n",
       "      <th>4</th>\n",
       "      <td>19</td>\n",
       "      <td>No</td>\n",
       "      <td>24.00</td>\n",
       "      <td>15</td>\n",
       "      <td>83400</td>\n",
       "      <td>Man</td>\n",
       "      <td>9</td>\n",
       "      <td>3</td>\n",
       "    </tr>\n",
       "  </tbody>\n",
       "</table>\n",
       "</div>"
      ],
      "text/plain": [
       "   Respondent Hobbyist   Age Age1stCode     Comp Gender YearsCode YearsCodePro\n",
       "0           8      Yes 36.00         12   116000    Man        17           13\n",
       "1          14      Yes 27.00         13    66000    Man         5            1\n",
       "2          17      Yes 25.00         14    79000    Man         7            3\n",
       "3          18      Yes 32.00         12  1260000    Man        19           12\n",
       "4          19       No 24.00         15    83400    Man         9            3"
      ]
     },
     "execution_count": 15,
     "metadata": {},
     "output_type": "execute_result"
    }
   ],
   "source": [
    "# use the function on our dataset\n",
    "df = handle_missing_values(df, prop_required_row = 0.5, prop_required_col = 0.5)\n",
    "df.head()"
   ]
  },
  {
   "cell_type": "code",
   "execution_count": 16,
   "metadata": {},
   "outputs": [
    {
     "name": "stdout",
     "output_type": "stream",
     "text": [
      "<class 'pandas.core.frame.DataFrame'>\n",
      "Int64Index: 8151 entries, 0 to 8151\n",
      "Data columns (total 8 columns):\n",
      " #   Column        Non-Null Count  Dtype  \n",
      "---  ------        --------------  -----  \n",
      " 0   Respondent    8151 non-null   int64  \n",
      " 1   Hobbyist      8151 non-null   object \n",
      " 2   Age           7229 non-null   float64\n",
      " 3   Age1stCode    8136 non-null   object \n",
      " 4   Comp          8151 non-null   int64  \n",
      " 5   Gender        7575 non-null   object \n",
      " 6   YearsCode     8132 non-null   object \n",
      " 7   YearsCodePro  8136 non-null   object \n",
      "dtypes: float64(1), int64(2), object(5)\n",
      "memory usage: 573.1+ KB\n"
     ]
    }
   ],
   "source": [
    "df.info()\n",
    "# now I dont have ethnicity"
   ]
  },
  {
   "cell_type": "code",
   "execution_count": 17,
   "metadata": {},
   "outputs": [
    {
     "data": {
      "text/plain": [
       "Respondent        0\n",
       "Hobbyist          0\n",
       "Age             922\n",
       "Age1stCode       15\n",
       "Comp              0\n",
       "Gender          576\n",
       "YearsCode        19\n",
       "YearsCodePro     15\n",
       "dtype: int64"
      ]
     },
     "execution_count": 17,
     "metadata": {},
     "output_type": "execute_result"
    }
   ],
   "source": [
    "df.isnull().sum()"
   ]
  },
  {
   "cell_type": "code",
   "execution_count": 18,
   "metadata": {},
   "outputs": [
    {
     "name": "stdout",
     "output_type": "stream",
     "text": [
      "<class 'pandas.core.frame.DataFrame'>\n",
      "Int64Index: 8108 entries, 0 to 8151\n",
      "Data columns (total 8 columns):\n",
      " #   Column        Non-Null Count  Dtype  \n",
      "---  ------        --------------  -----  \n",
      " 0   Respondent    8108 non-null   int64  \n",
      " 1   Hobbyist      8108 non-null   object \n",
      " 2   Age           7194 non-null   float64\n",
      " 3   Age1stCode    8108 non-null   object \n",
      " 4   Comp          8108 non-null   int64  \n",
      " 5   Gender        7534 non-null   object \n",
      " 6   YearsCode     8108 non-null   object \n",
      " 7   YearsCodePro  8108 non-null   object \n",
      "dtypes: float64(1), int64(2), object(5)\n",
      "memory usage: 570.1+ KB\n"
     ]
    }
   ],
   "source": [
    "# drop null rows for specific columns only\n",
    "\n",
    "df = df[df.YearsCode.notnull()]\n",
    "df = df[df.YearsCodePro.notnull()]\n",
    "df = df[df.Age1stCode.notnull()]\n",
    "df.info()"
   ]
  },
  {
   "cell_type": "code",
   "execution_count": 19,
   "metadata": {},
   "outputs": [
    {
     "data": {
      "text/plain": [
       "Respondent        0\n",
       "Hobbyist          0\n",
       "Age             914\n",
       "Age1stCode        0\n",
       "Comp              0\n",
       "Gender          574\n",
       "YearsCode         0\n",
       "YearsCodePro      0\n",
       "dtype: int64"
      ]
     },
     "execution_count": 19,
     "metadata": {},
     "output_type": "execute_result"
    }
   ],
   "source": [
    "df.isnull().sum()"
   ]
  },
  {
   "cell_type": "code",
   "execution_count": 20,
   "metadata": {},
   "outputs": [
    {
     "data": {
      "text/plain": [
       "Man                                                            6630\n",
       "Woman                                                           746\n",
       "Non-binary, genderqueer, or gender non-conforming                96\n",
       "Man;Non-binary, genderqueer, or gender non-conforming            30\n",
       "Woman;Non-binary, genderqueer, or gender non-conforming          27\n",
       "Woman;Man                                                         3\n",
       "Woman;Man;Non-binary, genderqueer, or gender non-conforming       2\n",
       "Name: Gender, dtype: int64"
      ]
     },
     "execution_count": 20,
     "metadata": {},
     "output_type": "execute_result"
    }
   ],
   "source": [
    "# what is the most common/frequent observation in Gender in train dataset?\n",
    "df.Gender.value_counts()"
   ]
  },
  {
   "cell_type": "code",
   "execution_count": 21,
   "metadata": {},
   "outputs": [
    {
     "data": {
      "text/plain": [
       "Man                                                           81.77\n",
       "Woman                                                          9.20\n",
       "Non-binary, genderqueer, or gender non-conforming              1.18\n",
       "Man;Non-binary, genderqueer, or gender non-conforming          0.37\n",
       "Woman;Non-binary, genderqueer, or gender non-conforming        0.33\n",
       "Woman;Man                                                      0.04\n",
       "Woman;Man;Non-binary, genderqueer, or gender non-conforming    0.02\n",
       "Name: Gender, dtype: float64"
      ]
     },
     "execution_count": 21,
     "metadata": {},
     "output_type": "execute_result"
    }
   ],
   "source": [
    "# take above code and turn into %\n",
    "df.Gender.value_counts()/len(df)*100"
   ]
  },
  {
   "cell_type": "code",
   "execution_count": 22,
   "metadata": {},
   "outputs": [
    {
     "data": {
      "text/plain": [
       "Man                                                            6630\n",
       "Woman                                                           746\n",
       "Non-binary, genderqueer, or gender non-conforming                96\n",
       "Man;Non-binary, genderqueer, or gender non-conforming            30\n",
       "Woman;Non-binary, genderqueer, or gender non-conforming          27\n",
       "Woman;Man                                                         3\n",
       "Woman;Man;Non-binary, genderqueer, or gender non-conforming       2\n",
       "Name: Gender, dtype: int64"
      ]
     },
     "execution_count": 22,
     "metadata": {},
     "output_type": "execute_result"
    }
   ],
   "source": [
    "# Fill NaNs with mode\n",
    "\n",
    "# find the mode\n",
    "df.Gender.mode()[0]\n",
    "\n",
    "# fills empy values with the mode\n",
    "df.Gender.fillna(df.Gender.mode()[0])\n",
    "\n",
    "df.Gender.value_counts()"
   ]
  },
  {
   "cell_type": "code",
   "execution_count": 23,
   "metadata": {},
   "outputs": [],
   "source": [
    "# Use skearn simple imputer\n",
    "\n",
    "from sklearn.impute import SimpleImputer\n",
    "\n",
    "# defining the imputer object\n",
    "imp_mode = SimpleImputer(missing_values=np.nan,strategy = 'most_frequent')\n",
    "\n",
    "df1 = pd.DataFrame(imp_mode.fit_transform(df[['Gender']]), \n",
    "             columns = ['Gender_imputed'], index = df.index)\n",
    "\n",
    "# fit and transform on train only!!\n",
    "#df1 = pd.DataFrame(imp_mode.fit_transform(df[['Gender']]), columns = ['Gender_imputed'], index = df.index)"
   ]
  },
  {
   "cell_type": "code",
   "execution_count": 24,
   "metadata": {},
   "outputs": [],
   "source": [
    "#merge transformed column(s) with original dataframe\n",
    "    # more like a SQL style of joining\n",
    "\n",
    "#pd.merge(df, df1, right_index=True, left_index=True)\n",
    "# Gender is the original column Gender_imputed is the new, but to drop do this:\n",
    "df = pd.merge(df, df1, right_index=True, left_index=True).drop(columns=['Gender'])"
   ]
  },
  {
   "cell_type": "code",
   "execution_count": 25,
   "metadata": {},
   "outputs": [
    {
     "name": "stdout",
     "output_type": "stream",
     "text": [
      "<class 'pandas.core.frame.DataFrame'>\n",
      "Int64Index: 8108 entries, 0 to 8151\n",
      "Data columns (total 8 columns):\n",
      " #   Column          Non-Null Count  Dtype  \n",
      "---  ------          --------------  -----  \n",
      " 0   Respondent      8108 non-null   int64  \n",
      " 1   Hobbyist        8108 non-null   object \n",
      " 2   Age             7194 non-null   float64\n",
      " 3   Age1stCode      8108 non-null   object \n",
      " 4   Comp            8108 non-null   int64  \n",
      " 5   YearsCode       8108 non-null   object \n",
      " 6   YearsCodePro    8108 non-null   object \n",
      " 7   Gender_imputed  8108 non-null   object \n",
      "dtypes: float64(1), int64(2), object(5)\n",
      "memory usage: 890.1+ KB\n"
     ]
    }
   ],
   "source": [
    "df.info()"
   ]
  },
  {
   "cell_type": "code",
   "execution_count": 26,
   "metadata": {},
   "outputs": [
    {
     "data": {
      "text/plain": [
       "Respondent          0\n",
       "Hobbyist            0\n",
       "Age               914\n",
       "Age1stCode          0\n",
       "Comp                0\n",
       "YearsCode           0\n",
       "YearsCodePro        0\n",
       "Gender_imputed      0\n",
       "dtype: int64"
      ]
     },
     "execution_count": 26,
     "metadata": {},
     "output_type": "execute_result"
    }
   ],
   "source": [
    "df.isnull().sum()\n",
    "# now just left with the age"
   ]
  },
  {
   "cell_type": "code",
   "execution_count": 27,
   "metadata": {},
   "outputs": [
    {
     "data": {
      "text/plain": [
       "10                    632\n",
       "20                    485\n",
       "6                     424\n",
       "8                     420\n",
       "7                     410\n",
       "5                     390\n",
       "15                    381\n",
       "12                    353\n",
       "25                    299\n",
       "9                     278\n",
       "4                     256\n",
       "11                    232\n",
       "14                    230\n",
       "16                    219\n",
       "13                    219\n",
       "30                    213\n",
       "3                     211\n",
       "18                    195\n",
       "17                    186\n",
       "22                    168\n",
       "40                    160\n",
       "35                    137\n",
       "23                    136\n",
       "21                    125\n",
       "2                     122\n",
       "19                    118\n",
       "24                    111\n",
       "26                     95\n",
       "38                     85\n",
       "27                     72\n",
       "28                     67\n",
       "37                     65\n",
       "36                     58\n",
       "32                     57\n",
       "34                     55\n",
       "29                     45\n",
       "42                     44\n",
       "1                      42\n",
       "33                     36\n",
       "45                     36\n",
       "31                     34\n",
       "43                     32\n",
       "41                     30\n",
       "39                     29\n",
       "More than 50 years     28\n",
       "44                     24\n",
       "46                     14\n",
       "Less than 1 year       14\n",
       "47                     10\n",
       "50                     10\n",
       "48                      9\n",
       "49                      7\n",
       "Name: YearsCode, dtype: int64"
      ]
     },
     "execution_count": 27,
     "metadata": {},
     "output_type": "execute_result"
    }
   ],
   "source": [
    "df.YearsCode.value_counts()\n",
    "# reason it is object is because of:\n",
    "    # More than 50 years\n",
    "    # Less than 1 year"
   ]
  },
  {
   "cell_type": "code",
   "execution_count": 28,
   "metadata": {},
   "outputs": [
    {
     "data": {
      "text/plain": [
       "3                     727\n",
       "5                     672\n",
       "2                     667\n",
       "4                     562\n",
       "10                    464\n",
       "6                     459\n",
       "7                     406\n",
       "1                     385\n",
       "8                     374\n",
       "20                    324\n",
       "Less than 1 year      316\n",
       "15                    299\n",
       "12                    266\n",
       "9                     201\n",
       "13                    180\n",
       "11                    178\n",
       "14                    151\n",
       "25                    150\n",
       "16                    148\n",
       "22                    110\n",
       "18                     97\n",
       "21                     93\n",
       "30                     87\n",
       "19                     83\n",
       "23                     83\n",
       "17                     72\n",
       "24                     71\n",
       "26                     50\n",
       "27                     49\n",
       "35                     44\n",
       "28                     40\n",
       "40                     37\n",
       "38                     31\n",
       "34                     26\n",
       "31                     24\n",
       "32                     24\n",
       "33                     23\n",
       "29                     22\n",
       "36                     20\n",
       "37                     18\n",
       "39                     16\n",
       "More than 50 years     13\n",
       "41                     10\n",
       "45                      9\n",
       "44                      8\n",
       "42                      8\n",
       "43                      5\n",
       "46                      2\n",
       "47                      2\n",
       "49                      1\n",
       "48                      1\n",
       "Name: YearsCodePro, dtype: int64"
      ]
     },
     "execution_count": 28,
     "metadata": {},
     "output_type": "execute_result"
    }
   ],
   "source": [
    "df.YearsCodePro.value_counts()\n",
    "# reason it is object is because of:\n",
    "    # More than 50 years\n",
    "    # Less than 1 year"
   ]
  },
  {
   "cell_type": "code",
   "execution_count": 29,
   "metadata": {},
   "outputs": [
    {
     "data": {
      "text/plain": [
       "12                      889\n",
       "13                      710\n",
       "15                      689\n",
       "14                      675\n",
       "10                      656\n",
       "16                      650\n",
       "18                      602\n",
       "11                      387\n",
       "17                      383\n",
       "8                       351\n",
       "19                      324\n",
       "9                       235\n",
       "20                      215\n",
       "7                       182\n",
       "21                      142\n",
       "25                      117\n",
       "22                      114\n",
       "6                       105\n",
       "23                       99\n",
       "24                       89\n",
       "26                       75\n",
       "5                        57\n",
       "27                       56\n",
       "Younger than 5 years     55\n",
       "30                       53\n",
       "28                       45\n",
       "29                       32\n",
       "31                       25\n",
       "35                       19\n",
       "33                       18\n",
       "32                       12\n",
       "34                        8\n",
       "36                        6\n",
       "39                        6\n",
       "40                        6\n",
       "38                        4\n",
       "41                        4\n",
       "37                        3\n",
       "50                        3\n",
       "45                        2\n",
       "47                        2\n",
       "42                        1\n",
       "46                        1\n",
       "Older than 85             1\n",
       "Name: Age1stCode, dtype: int64"
      ]
     },
     "execution_count": 29,
     "metadata": {},
     "output_type": "execute_result"
    }
   ],
   "source": [
    "df.Age1stCode.value_counts()\n",
    "# reason it is object is because of:\n",
    "    # More than 85 years\n",
    "    # Younger than 5 years"
   ]
  },
  {
   "cell_type": "code",
   "execution_count": 30,
   "metadata": {},
   "outputs": [],
   "source": [
    "df.replace('Younger than 5 years',4, inplace=True)\n",
    "df.replace('Older than 85',85, inplace=True)\n",
    "df.replace('More than 50 years',50, inplace=True)\n",
    "df.replace('Less than 1 year',0, inplace=True)"
   ]
  },
  {
   "cell_type": "code",
   "execution_count": 31,
   "metadata": {},
   "outputs": [],
   "source": [
    "df['Age1stCode'] = df.Age1stCode.astype('int64')\n",
    "df['YearsCode'] = df.YearsCode.astype('int64')\n",
    "df['YearsCodePro'] = df.YearsCodePro.astype('int64')"
   ]
  },
  {
   "cell_type": "code",
   "execution_count": 32,
   "metadata": {},
   "outputs": [
    {
     "name": "stdout",
     "output_type": "stream",
     "text": [
      "<class 'pandas.core.frame.DataFrame'>\n",
      "Int64Index: 8108 entries, 0 to 8151\n",
      "Data columns (total 8 columns):\n",
      " #   Column          Non-Null Count  Dtype  \n",
      "---  ------          --------------  -----  \n",
      " 0   Respondent      8108 non-null   int64  \n",
      " 1   Hobbyist        8108 non-null   object \n",
      " 2   Age             7194 non-null   float64\n",
      " 3   Age1stCode      8108 non-null   int64  \n",
      " 4   Comp            8108 non-null   int64  \n",
      " 5   YearsCode       8108 non-null   int64  \n",
      " 6   YearsCodePro    8108 non-null   int64  \n",
      " 7   Gender_imputed  8108 non-null   object \n",
      "dtypes: float64(1), int64(5), object(2)\n",
      "memory usage: 890.1+ KB\n"
     ]
    }
   ],
   "source": [
    "df.info()"
   ]
  },
  {
   "cell_type": "code",
   "execution_count": 33,
   "metadata": {},
   "outputs": [
    {
     "data": {
      "text/plain": [
       "array([[36., 12., 17., 13.],\n",
       "       [27., 13.,  5.,  1.],\n",
       "       [25., 14.,  7.,  3.],\n",
       "       ...,\n",
       "       [28., 13., 15., 12.],\n",
       "       [26., 13.,  7.,  4.],\n",
       "       [41., 15., 25., 20.]])"
      ]
     },
     "execution_count": 33,
     "metadata": {},
     "output_type": "execute_result"
    }
   ],
   "source": [
    "from sklearn.impute import KNNImputer\n",
    "\n",
    "#Use numeric columns that you want to use for imputation\n",
    "X_numeric = df[['Age', 'Age1stCode', 'YearsCode', 'YearsCodePro']]\n",
    "\n",
    "# define the thing\n",
    "imputer = KNNImputer(n_neighbors=1)\n",
    "    # define the neighbors\n",
    "\n",
    "# fit the thing (or fit and use with fit_transform) only on train!\n",
    "imputed = imputer.fit_transform(X_numeric)\n",
    "    # fit and transform it\n",
    "imputed"
   ]
  },
  {
   "cell_type": "code",
   "execution_count": 34,
   "metadata": {},
   "outputs": [
    {
     "data": {
      "text/plain": [
       "0    0\n",
       "1    0\n",
       "2    0\n",
       "3    0\n",
       "dtype: int64"
      ]
     },
     "execution_count": 34,
     "metadata": {},
     "output_type": "execute_result"
    }
   ],
   "source": [
    "pd.DataFrame(imputed).isnull().sum()\n",
    "# Perfect"
   ]
  },
  {
   "cell_type": "code",
   "execution_count": 35,
   "metadata": {},
   "outputs": [
    {
     "data": {
      "text/html": [
       "<div>\n",
       "<style scoped>\n",
       "    .dataframe tbody tr th:only-of-type {\n",
       "        vertical-align: middle;\n",
       "    }\n",
       "\n",
       "    .dataframe tbody tr th {\n",
       "        vertical-align: top;\n",
       "    }\n",
       "\n",
       "    .dataframe thead th {\n",
       "        text-align: right;\n",
       "    }\n",
       "</style>\n",
       "<table border=\"1\" class=\"dataframe\">\n",
       "  <thead>\n",
       "    <tr style=\"text-align: right;\">\n",
       "      <th></th>\n",
       "      <th>0</th>\n",
       "      <th>1</th>\n",
       "      <th>2</th>\n",
       "      <th>3</th>\n",
       "    </tr>\n",
       "  </thead>\n",
       "  <tbody>\n",
       "    <tr>\n",
       "      <th>0</th>\n",
       "      <td>36.00</td>\n",
       "      <td>12.00</td>\n",
       "      <td>17.00</td>\n",
       "      <td>13.00</td>\n",
       "    </tr>\n",
       "    <tr>\n",
       "      <th>1</th>\n",
       "      <td>27.00</td>\n",
       "      <td>13.00</td>\n",
       "      <td>5.00</td>\n",
       "      <td>1.00</td>\n",
       "    </tr>\n",
       "    <tr>\n",
       "      <th>2</th>\n",
       "      <td>25.00</td>\n",
       "      <td>14.00</td>\n",
       "      <td>7.00</td>\n",
       "      <td>3.00</td>\n",
       "    </tr>\n",
       "    <tr>\n",
       "      <th>3</th>\n",
       "      <td>32.00</td>\n",
       "      <td>12.00</td>\n",
       "      <td>19.00</td>\n",
       "      <td>12.00</td>\n",
       "    </tr>\n",
       "    <tr>\n",
       "      <th>4</th>\n",
       "      <td>24.00</td>\n",
       "      <td>15.00</td>\n",
       "      <td>9.00</td>\n",
       "      <td>3.00</td>\n",
       "    </tr>\n",
       "  </tbody>\n",
       "</table>\n",
       "</div>"
      ],
      "text/plain": [
       "      0     1     2     3\n",
       "0 36.00 12.00 17.00 13.00\n",
       "1 27.00 13.00  5.00  1.00\n",
       "2 25.00 14.00  7.00  3.00\n",
       "3 32.00 12.00 19.00 12.00\n",
       "4 24.00 15.00  9.00  3.00"
      ]
     },
     "execution_count": 35,
     "metadata": {},
     "output_type": "execute_result"
    }
   ],
   "source": [
    "imputed = pd.DataFrame(imputed, index = df.index)\n",
    "# columns are in the same order as above:\n",
    "    #X_numeric = df[['Age', 'Age1stCode', 'YearsCode', 'YearsCodePro']]\n",
    "imputed.head()"
   ]
  },
  {
   "cell_type": "code",
   "execution_count": 36,
   "metadata": {},
   "outputs": [],
   "source": [
    "# can rename the columns if you want\n",
    "df['Age'] = imputed[[0]]"
   ]
  },
  {
   "cell_type": "code",
   "execution_count": 37,
   "metadata": {},
   "outputs": [
    {
     "name": "stdout",
     "output_type": "stream",
     "text": [
      "<class 'pandas.core.frame.DataFrame'>\n",
      "Int64Index: 8108 entries, 0 to 8151\n",
      "Data columns (total 8 columns):\n",
      " #   Column          Non-Null Count  Dtype  \n",
      "---  ------          --------------  -----  \n",
      " 0   Respondent      8108 non-null   int64  \n",
      " 1   Hobbyist        8108 non-null   object \n",
      " 2   Age             8108 non-null   float64\n",
      " 3   Age1stCode      8108 non-null   int64  \n",
      " 4   Comp            8108 non-null   int64  \n",
      " 5   YearsCode       8108 non-null   int64  \n",
      " 6   YearsCodePro    8108 non-null   int64  \n",
      " 7   Gender_imputed  8108 non-null   object \n",
      "dtypes: float64(1), int64(5), object(2)\n",
      "memory usage: 890.1+ KB\n"
     ]
    }
   ],
   "source": [
    "df.info()"
   ]
  },
  {
   "cell_type": "markdown",
   "metadata": {},
   "source": [
    "### Outliers\n",
    "- Data point(s) that differs significantly from other observations\n",
    "- Could be due to chance, measurement errors, transcription error, sampling error/bias,\n",
    "\n",
    "Question to ask:\n",
    "- Is the outlier part of population that I want to explore/model?"
   ]
  },
  {
   "cell_type": "code",
   "execution_count": 38,
   "metadata": {},
   "outputs": [
    {
     "data": {
      "text/plain": [
       "Text(0.5, 1.0, 'Compensation')"
      ]
     },
     "execution_count": 38,
     "metadata": {},
     "output_type": "execute_result"
    },
    {
     "data": {
      "image/png": "[encoded data removed]",
      "text/plain": [
       "<Figure size 864x432 with 2 Axes>"
      ]
     },
     "metadata": {
      "needs_background": "light"
     },
     "output_type": "display_data"
    }
   ],
   "source": [
    "# plot histograms from Age and Compensation\n",
    "\n",
    "plt.figure(figsize = (12,6))\n",
    "\n",
    "plt.subplot(121)\n",
    "df.Age.hist(bins = 100, color='lightcoral', ec='black')\n",
    "plt.title('Age')\n",
    "\n",
    "plt.subplot(122)\n",
    "df.Comp.hist(bins = 100, color='moccasin', ec='black')\n",
    "plt.title('Compensation')"
   ]
  },
  {
   "cell_type": "code",
   "execution_count": 39,
   "metadata": {},
   "outputs": [
    {
     "data": {
      "image/png": "[encoded data removed]",
      "text/plain": [
       "<Figure size 864x432 with 2 Axes>"
      ]
     },
     "metadata": {
      "needs_background": "light"
     },
     "output_type": "display_data"
    }
   ],
   "source": [
    "\n",
    "# Boxplot for Age and Compensation\n",
    "\n",
    "plt.figure(figsize = (12,6))\n",
    "\n",
    "plt.subplot(121)\n",
    "sns.boxplot(x = 'Age', data = df, whis = 3, color='lightcoral')\n",
    "plt.title('Age')\n",
    "\n",
    "plt.subplot(122)\n",
    "plt.title('Compensation')\n",
    "sns.boxplot(x = 'Comp', data = df, whis = 3, color='moccasin');"
   ]
  },
  {
   "cell_type": "markdown",
   "metadata": {},
   "source": [
    "### Handling Outliers:\n",
    "- Use domain knowledge/business rules to have cut-offs\n",
    "- Use IQR method to exclude outliers\n",
    "- Cap/Trim max value\n",
    "- transformation\n",
    "- Impute new value (if you know outlier is a mistake)"
   ]
  },
  {
   "cell_type": "code",
   "execution_count": 40,
   "metadata": {},
   "outputs": [
    {
     "name": "stdout",
     "output_type": "stream",
     "text": [
      "My Upper Bound Age is:  75.0\n",
      " \n",
      " My Lower Bound Age is:  -9.0\n"
     ]
    }
   ],
   "source": [
    "\n",
    "# Calculate q1, q3 and iqr for Age\n",
    "q1 = df.Age.quantile(0.25)\n",
    "q3 = df.Age.quantile(0.75)\n",
    "iqr = q3 - q1\n",
    "k = 3\n",
    "\n",
    "# calculate upper and lower ranges\n",
    "upper_bound_Age =  q3 + k * iqr\n",
    "lower_bound_Age =  q1 - k * iqr\n",
    "\n",
    "print(f'My Upper Bound Age is: ', upper_bound_Age)\n",
    "print(' ')\n",
    "print(f' My Lower Bound Age is: ', lower_bound_Age)"
   ]
  },
  {
   "cell_type": "code",
   "execution_count": 41,
   "metadata": {},
   "outputs": [
    {
     "name": "stdout",
     "output_type": "stream",
     "text": [
      "My Upper Bound Comp is:  391000.0\n",
      " \n",
      " My Lower Bound Comp is:  -148000.0\n"
     ]
    }
   ],
   "source": [
    "# Calculate q1, q3 and iqr for Comp\n",
    "\n",
    "q1 = df.Comp.quantile(0.25)\n",
    "q3 = df.Comp.quantile(0.75)\n",
    "iqr = q3 - q1\n",
    "k = 3\n",
    "\n",
    "# calculate upper and lower ranges\n",
    "upper_bound_Comp = q3 + k * iqr\n",
    "lower_bound_Comp = q1 - k * iqr\n",
    "\n",
    "print(f'My Upper Bound Comp is: ', upper_bound_Comp)\n",
    "print(' ')\n",
    "print(f' My Lower Bound Comp is: ', lower_bound_Comp)"
   ]
  },
  {
   "cell_type": "code",
   "execution_count": 42,
   "metadata": {},
   "outputs": [],
   "source": [
    "\n",
    "# Filter dataframe using multiple conditions\n",
    "\n",
    "df = df[(df.Age < upper_bound_Age) & (df.Comp < upper_bound_Comp)]\n",
    "# 7548 rows now"
   ]
  },
  {
   "cell_type": "code",
   "execution_count": 43,
   "metadata": {},
   "outputs": [],
   "source": [
    "# Cap the limit\n",
    "\n",
    "# df['column'] = np.where(this_is_true, do_this, else_do_that)\n",
    "    # sets a condition and if true sets this value if not sets a different value\n",
    "\n",
    "df.Comp_capped = df.Comp = np.where(df.Comp > 1_000_000, df.Comp == 1_000_000, df.Comp)\n",
    "\n",
    "# this is my condition\n",
    "    # df.Comp > 1_000_000\n",
    "# if it is not met do this\n",
    "    # df.Comp == 1_000_000"
   ]
  },
  {
   "cell_type": "code",
   "execution_count": 44,
   "metadata": {},
   "outputs": [
    {
     "data": {
      "text/plain": [
       "(7548, 8)"
      ]
     },
     "execution_count": 44,
     "metadata": {},
     "output_type": "execute_result"
    }
   ],
   "source": [
    "df.shape"
   ]
  },
  {
   "cell_type": "code",
   "execution_count": 47,
   "metadata": {},
   "outputs": [
    {
     "data": {
      "text/plain": [
       "Text(0.5, 1.0, 'Compensation')"
      ]
     },
     "execution_count": 47,
     "metadata": {},
     "output_type": "execute_result"
    },
    {
     "data": {
      "image/png": "[encoded data removed]",
      "text/plain": [
       "<Figure size 864x432 with 2 Axes>"
      ]
     },
     "metadata": {
      "needs_background": "light"
     },
     "output_type": "display_data"
    }
   ],
   "source": [
    "plt.figure(figsize = (12,6))\n",
    "\n",
    "plt.subplot(121)\n",
    "df.Age.hist(bins = 100, color='lightcoral', ec='black')\n",
    "plt.title('Age')\n",
    "\n",
    "plt.subplot(122)\n",
    "df.Comp.hist(bins = 100, color='moccasin', ec='black')\n",
    "plt.title('Compensation')"
   ]
  },
  {
   "cell_type": "code",
   "execution_count": 46,
   "metadata": {},
   "outputs": [
    {
     "data": {
      "image/png": "[encoded data removed]",
      "text/plain": [
       "<Figure size 864x432 with 2 Axes>"
      ]
     },
     "metadata": {
      "needs_background": "light"
     },
     "output_type": "display_data"
    }
   ],
   "source": [
    "plt.figure(figsize = (12,6))\n",
    "\n",
    "plt.subplot(121)\n",
    "sns.boxplot(x = 'Age', data = df, whis = 3, color='lightcoral')\n",
    "plt.title('Age')\n",
    "\n",
    "plt.subplot(122)\n",
    "plt.title('Compensation')\n",
    "sns.boxplot(x = 'Comp', data = df, whis = 3, color='moccasin');"
   ]
  },
  {
   "cell_type": "code",
   "execution_count": null,
   "metadata": {},
   "outputs": [],
   "source": []
  },
  {
   "cell_type": "code",
   "execution_count": null,
   "metadata": {},
   "outputs": [],
   "source": []
  },
  {
   "cell_type": "markdown",
   "metadata": {},
   "source": [
    "# Data Wrangling: Acquisition & Preparation\n",
    "In this lesson, we'll be acquiring and preparing some data from our SQL database."
   ]
  },
  {
   "cell_type": "markdown",
   "metadata": {},
   "source": [
    "## Learning Goals\n",
    "- Acquire a sample of data from SQL.\n",
    "- Identify null values, which nulls are 'deal-breakers', i.e. rows removed, which nulls should be represented by 0, and which should be replaced by a value from other methods, such as mean.\n",
    "- Identify outliers and decide what to do with them, if anything (remove, keep as-is, replace).\n",
    "- Data Structure: Aggregate as needed so that every row is an observation and each column is a variable (1 variable and not a measure)."
   ]
  },
  {
   "cell_type": "markdown",
   "metadata": {},
   "source": [
    "## Acquire & Summarize\n",
    "- We'll start with some standard imports:"
   ]
  },
  {
   "cell_type": "code",
   "execution_count": 45,
   "metadata": {},
   "outputs": [
    {
     "ename": "ModuleNotFoundError",
     "evalue": "No module named 'acquire'",
     "output_type": "error",
     "traceback": [
      "\u001b[0;31m--------------------\u001b[0m",
      "\u001b[0;31mModuleNotFoundError\u001b[0mTraceback (most recent call last)",
      "\u001b[0;32m<ipython-input-45-903930faeb83>\u001b[0m in \u001b[0;36m<module>\u001b[0;34m\u001b[0m\n\u001b[1;32m     18\u001b[0m \u001b[0mpd\u001b[0m\u001b[0;34m.\u001b[0m\u001b[0moptions\u001b[0m\u001b[0;34m.\u001b[0m\u001b[0mdisplay\u001b[0m\u001b[0;34m.\u001b[0m\u001b[0mfloat_format\u001b[0m \u001b[0;34m=\u001b[0m \u001b[0;34m'{:20,.2f}'\u001b[0m\u001b[0;34m.\u001b[0m\u001b[0mformat\u001b[0m\u001b[0;34m\u001b[0m\u001b[0;34m\u001b[0m\u001b[0m\n\u001b[1;32m     19\u001b[0m \u001b[0;34m\u001b[0m\u001b[0m\n\u001b[0;32m---> 20\u001b[0;31m \u001b[0;32mimport\u001b[0m \u001b[0macquire\u001b[0m\u001b[0;34m\u001b[0m\u001b[0;34m\u001b[0m\u001b[0m\n\u001b[0m\u001b[1;32m     21\u001b[0m \u001b[0;32mimport\u001b[0m \u001b[0msummarize\u001b[0m\u001b[0;34m\u001b[0m\u001b[0;34m\u001b[0m\u001b[0m\n\u001b[1;32m     22\u001b[0m \u001b[0;32mimport\u001b[0m \u001b[0mprepare\u001b[0m\u001b[0;34m\u001b[0m\u001b[0;34m\u001b[0m\u001b[0m\n",
      "\u001b[0;31mModuleNotFoundError\u001b[0m: No module named 'acquire'"
     ]
    }
   ],
   "source": [
    "# ignore warnings\n",
    "import warnings\n",
    "warnings.filterwarnings(\"ignore\")\n",
    "\n",
    "# Wrangling\n",
    "import pandas as pd\n",
    "import numpy as np\n",
    "\n",
    "# Exploring\n",
    "import scipy.stats as stats\n",
    "\n",
    "# Visualizing\n",
    "%matplotlib inline\n",
    "import matplotlib.pyplot as plt\n",
    "import seaborn as sns\n",
    "\n",
    "# default pandas decimal number display format\n",
    "pd.options.display.float_format = '{:20,.2f}'.format\n",
    "\n",
    "import acquire\n",
    "import summarize\n",
    "import prepare"
   ]
  },
  {
   "cell_type": "markdown",
   "metadata": {},
   "source": [
    "Note that we have several modules already in place: \n",
    "    - `acquire`\n",
    "    - `summarize`\n",
    "    - `prepare` \n",
    "We'll use these to work with our data, and will explain their contents as we go.\n",
    "\n",
    "The acquire module has a function named get_mallcustomer_data that will acquire our data from the SQL database. The data comes from the customers table inside the mall_customers database."
   ]
  },
  {
   "cell_type": "code",
   "execution_count": null,
   "metadata": {},
   "outputs": [],
   "source": [
    "df = acquire.get_mallcustomer_data()\n",
    "\n",
    "df.head()"
   ]
  },
  {
   "cell_type": "markdown",
   "metadata": {},
   "source": [
    "Next, we'll use the `df_summary` function from the `summarize` module to get a broad overview of our data."
   ]
  },
  {
   "cell_type": "code",
   "execution_count": null,
   "metadata": {},
   "outputs": [],
   "source": [
    "summarize.df_summary(df)"
   ]
  },
  {
   "cell_type": "markdown",
   "metadata": {},
   "source": [
    "## Filter Columns and Missing Values\n",
    "We will now prepare our data using the `data_prep` function from the `prepare` module.\n",
    "\n",
    "The `data_prep` function will do the following:"
   ]
  },
  {
   "cell_type": "markdown",
   "metadata": {},
   "source": [
    "- Remove unwanted columns:"
   ]
  },
  {
   "cell_type": "code",
   "execution_count": null,
   "metadata": {},
   "outputs": [],
   "source": [
    "def remove_columns(df, cols_to_remove):  \n",
    "    df = df.drop(columns=cols_to_remove)\n",
    "    return df"
   ]
  },
  {
   "cell_type": "markdown",
   "metadata": {},
   "source": [
    "- Remove rows & columns based on a minimum percentage of values available for each row/columns:"
   ]
  },
  {
   "cell_type": "code",
   "execution_count": null,
   "metadata": {},
   "outputs": [],
   "source": [
    "def handle_missing_values(df, prop_required_column = .5, prop_required_row = .75):\n",
    "    threshold = int(round(prop_required_column*len(df.index),0))\n",
    "    df.dropna(axis=1, thresh=threshold, inplace=True)\n",
    "    threshold = int(round(prop_required_row*len(df.columns),0))\n",
    "    df.dropna(axis=0, thresh=threshold, inplace=True)\n",
    "    return df"
   ]
  },
  {
   "cell_type": "markdown",
   "metadata": {},
   "source": [
    "- Putting it all together, we have:"
   ]
  },
  {
   "cell_type": "code",
   "execution_count": null,
   "metadata": {},
   "outputs": [],
   "source": [
    "def data_prep(df, cols_to_remove=[], prop_required_column=.5, prop_required_row=.75):\n",
    "    df = remove_columns(df, cols_to_remove)\n",
    "    df = handle_missing_values(df, prop_required_column, prop_required_row)\n",
    "    return df"
   ]
  },
  {
   "cell_type": "code",
   "execution_count": null,
   "metadata": {},
   "outputs": [],
   "source": [
    "df = prepare.data_prep(\n",
    "    df,\n",
    "    cols_to_remove=[],\n",
    "    prop_required_column=.6,\n",
    "    prop_required_row=.75\n",
    ")"
   ]
  },
  {
   "cell_type": "code",
   "execution_count": null,
   "metadata": {},
   "outputs": [],
   "source": [
    "df.head()"
   ]
  },
  {
   "cell_type": "markdown",
   "metadata": {},
   "source": [
    "## Outliers\n",
    "Now let's visualize the distribution of our data:"
   ]
  },
  {
   "cell_type": "code",
   "execution_count": null,
   "metadata": {},
   "outputs": [],
   "source": [
    "df.hist(figsize=(24, 10), bins=20)"
   ]
  },
  {
   "cell_type": "markdown",
   "metadata": {},
   "source": [
    "### IQR\n",
    "One way we can detect and remove outliers is using the Interquartile Range or IQR.\n",
    "\n",
    "` Interquartile Range, a.k.a. the midspread, middle 50%, or H-spread, is a measure of variability, based on dividing a data set into quartiles, or 4 equal parts.`\n",
    "\n",
    "The data is sorted by value and then divided so that an equal number of records are in each quartile. Each quartile is split into 25% chunks. The first quartile is the bottom 25% and is denoted by Q1 at the 25th percentile mark. The second quartile, or median, is the range between the 25th and 50th percentile, and is denoted by Q2 in the middle of the range at 50%. The third quartile is the 50th to 75th percentile and is denoted by Q3 at the 75% mark. The fourth quartile comprises the upper 25% from the 75th to the 100th percentile, this is denoted as Q4 at the maximum value in the dataset.\n",
    "\n",
    "IQR is computed by taking the difference between Q1 and Q3: Q3-Q1 = IQR Outliers are computed through the following formula, where 1.5 is the textbook weight given to determine where your outliers will be determined. A higher value will give the more extreme outliers.\n",
    "\n",
    "1. lower outliers: Q1−(k × IQR)\n",
    "2. upper outliers: Q3+(k×IQR)\n",
    "\n",
    "While 1.5 is a value commonly given to k, it is not uncommon to see values as high as 3 for detecting outliers.\n",
    "\n",
    "For our data, it looks like we won't have any lower outliers, so we'll just worry about detecting the upper outliers.\n",
    "\n",
    "Here we'll write a couple of functions that will detect upper outliers for us. In addition to detecting upper outliers, the `get_upper_outliers` function will also give us a number for each data point that indicates how far away each outlier is from the upper bound."
   ]
  },
  {
   "cell_type": "markdown",
   "metadata": {},
   "source": [
    "To see this data, we'll add a new column to the data frame that indicates the outliers in the numeric columns."
   ]
  },
  {
   "cell_type": "code",
   "execution_count": null,
   "metadata": {},
   "outputs": [],
   "source": [
    "def get_upper_outliers(s, k):\n",
    "    '''\n",
    "    Given a series and a cutoff value, k, returns the upper outliers for the\n",
    "    series.\n",
    "\n",
    "    The values returned will be either 0 (if the point is not an outlier), or a\n",
    "    number that indicates how far away from the upper bound the observation is.\n",
    "    '''\n",
    "    q1, q3 = s.quantile([.25, .75])\n",
    "    iqr = q3 - q1\n",
    "    upper_bound = q3 + k * iqr\n",
    "    return s.apply(lambda x: max([x - upper_bound, 0]))\n",
    "\n",
    "def add_upper_outlier_columns(df, k):\n",
    "    '''\n",
    "    Add a column with the suffix _outliers for all the numeric columns\n",
    "    in the given dataframe.\n",
    "    '''\n",
    "    # outlier_cols = {col + '_outliers': get_upper_outliers(df[col], k)\n",
    "    #                 for col in df.select_dtypes('number')}\n",
    "    # return df.assign(**outlier_cols)\n",
    "\n",
    "    for col in df.select_dtypes('number'):\n",
    "        df[col + '_outliers'] = get_upper_outliers(df[col], k)\n",
    "\n",
    "    return df\n",
    "\n",
    "add_upper_outlier_columns(df, k=1.5)\n",
    "\n",
    "df.head()"
   ]
  },
  {
   "cell_type": "markdown",
   "metadata": {},
   "source": [
    "Now we can see what the outliers in our data look like:"
   ]
  },
  {
   "cell_type": "code",
   "execution_count": null,
   "metadata": {},
   "outputs": [],
   "source": [
    "outlier_cols = [col for col in df if col.endswith('_outliers')]\n",
    "for col in outlier_cols:\n",
    "    print('~~~\\n' + col)\n",
    "    data = df[col][df[col] > 0]\n",
    "    print(data.describe())"
   ]
  },
  {
   "cell_type": "markdown",
   "metadata": {},
   "source": [
    "With our data, it looks like we have only one column with outliers, and the outliers in that column are 4.25 above the upper bound.\n",
    "\n",
    "We'll decide that these outliers are acceptable, and leave them in the dataset."
   ]
  },
  {
   "cell_type": "markdown",
   "metadata": {},
   "source": [
    "# Further Reading\n",
    "- Outliers: To Drop or not to Drop\n",
    "    - https://www.theanalysisfactor.com/outliers-to-drop-or-not-to-drop/\n",
    "- Tidy Data\n",
    "    - Example Notebook\n",
    "        - https://github.com/nickhould/tidy-data-python\n",
    "    - Explanatory Blog Post\n",
    "        - http://www.jeannicholashould.com/tidy-data-in-python.html\n"
   ]
  },
  {
   "cell_type": "code",
   "execution_count": null,
   "metadata": {},
   "outputs": [],
   "source": []
  }
 ],
 "metadata": {
  "kernelspec": {
   "display_name": "Python 3",
   "language": "python",
   "name": "python3"
  },
  "language_info": {
   "codemirror_mode": {
    "name": "ipython",
    "version": 3
   },
   "file_extension": ".py",
   "mimetype": "text/x-python",
   "name": "python",
   "nbconvert_exporter": "python",
   "pygments_lexer": "ipython3",
   "version": "3.8.5"
  }
 },
 "nbformat": 4,
 "nbformat_minor": 4
}
